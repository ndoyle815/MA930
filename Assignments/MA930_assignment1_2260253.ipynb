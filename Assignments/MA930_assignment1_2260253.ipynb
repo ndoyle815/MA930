{
 "cells": [
  {
   "cell_type": "markdown",
   "id": "9ec80d5b",
   "metadata": {},
   "source": [
    "# MA930 Assignment 1\n",
    "*Student ID: 2260253*"
   ]
  },
  {
   "cell_type": "code",
   "execution_count": 40,
   "id": "5c26917b",
   "metadata": {},
   "outputs": [],
   "source": [
    "# import libraries\n",
    "import numpy as np\n",
    "import matplotlib.pyplot as plt\n",
    "import random\n",
    "import seaborn as sns\n",
    "import math as m\n",
    "\n",
    "# built-in statistics function for unbiased variance\n",
    "from statistics import variance\n",
    "\n",
    "# statistical distributions\n",
    "from scipy.stats import norm, chi2, uniform\n",
    "\n",
    "#plotting\n",
    "plt.rcParams['text.usetex'] = True\n",
    "plt.rcParams.update({'font.size': 16})"
   ]
  },
  {
   "cell_type": "markdown",
   "id": "43decb5d",
   "metadata": {},
   "source": [
    "**Question 1**\n",
    "\n",
    "For any two events, $A, B \\in \\Omega$, $\\mathbb{P}(A \\cap B) = \\mathbb{P}(A | B) \\mathbb{P}(B)$. If we define $B' = B \\cap C$,\n",
    "\n",
    "\\begin{align*}\n",
    "    \\mathbb{P}(A \\cap B') &= \\mathbb{P}(A | B') \\mathbb{P}(B') \\\\\n",
    "    \\mathbb{P}(A \\cap B \\cap C) &= \\mathbb{P}(A | B \\cap C) \\mathbb{P}(B \\cap C) \\\\\n",
    "    &= \\mathbb{P}(A | B \\cap C) \\mathbb{P}(B | C) \\mathbb{P}(C) .\n",
    "\\end{align*}\n",
    "\n",
    "For $n$ events $A_1, A_2, ..., A_n$,\n",
    "\n",
    "\\begin{equation}\\label{condprod}\n",
    "    \\mathbb{P}\\Big{(}\\cap_{i=1}^n A_i\\Big{)} = \\prod_{k=1}^n \\mathbb{P}\\Big{(}A_k | \\cap_{j=1}^{k-1} A_j\\Big{)} .\n",
    "\\end{equation}\n",
    "\n",
    "We can prove this by induction. The base case for $n = 3$ was shown above to be true. For the induction step, assume the statement above is true and we want to show that it holds for $n \\rightarrow n+1$:\n",
    "\n",
    "\\begin{align*}\n",
    "    \\mathbb{P}\\Big{(}\\cap_{i=1}^{n+1} A_i\\Big{)} &= \\mathbb{P}\\Big{(}A_{n+1} \\cap (\\cap_{i=1}^n A_i)\\Big{)} \\\\\n",
    "    &= \\mathbb{P}\\Big{(}A_{n+1} | (\\cap_{i=1}^n A_i)\\Big{)} \\mathbb{P}\\Big{(}\\cap_{i=1}^n A_i\\Big{)} \\\\\n",
    "    &= \\mathbb{P}\\Big{(}A_{n+1} | (\\cap_{i=1}^n A_i)\\Big{)} \\prod_{k=1}^n \\mathbb{P}\\Big{(}A_k | \\cap_{j=1}^{k-1} A_j\\Big{)} \\\\\n",
    "    &= \\prod_{k=1}^{n+1} \\mathbb{P}\\Big{(}A_k | \\cap_{j=1}^{k-1} A_j\\Big{)} . \\\\\n",
    "    &\\, \\square\n",
    "\\end{align*}"
   ]
  },
  {
   "cell_type": "markdown",
   "id": "04e78b54",
   "metadata": {},
   "source": [
    "**Question 2**\n",
    "\n",
    "The PGF of a discrete random variable $X$ is given by\n",
    "\n",
    "\\begin{align*}\n",
    "    G(z) = \\frac{z}{5}(2+3 z^2) &= \\frac{2}{5} z + \\frac{3}{5} z^3 \\\\\n",
    "    &= \\mathbb{P}(X = 0) + \\mathbb{P}(X = 1) z + \\mathbb{P}(X = 2) z^2 + \\mathbb{P}(X = 3) z^3 + ...\n",
    "\\end{align*}\n",
    "\n",
    "Comparing the two forms of $G(z)$ gives us the distribution of $X$:\n",
    "\n",
    "\\begin{equation*}\n",
    "    \\mathbb{P}(X = x) = \n",
    "    \\begin{cases}\n",
    "    \\frac{2}{5} & x = 1 \\\\\n",
    "    \\frac{3}{5} & x = 3 \\\\\n",
    "    0 & \\textrm{otherwise}\n",
    "    \\end{cases} .\n",
    "\\end{equation*}"
   ]
  },
  {
   "cell_type": "markdown",
   "id": "dff70547",
   "metadata": {},
   "source": [
    "**Question 3**\n",
    "\n",
    "**(i)** Let $(x_1, x_2, ..., x_n)$ be a collection of independent normally distributed random variables such that $x_j \\sim \\mathcal{N}(\\mu_j, \\sigma_j^2)$, with characteristic function $\\phi_{x_j}(t) = \\exp\\Big{(} i t \\mu_j - \\frac{\\sigma_j^2 t^2}{2} \\Big{)}$. Let $X = \\sum_{j=1}^n x_j$. Then\n",
    "\n",
    "\\begin{align*}\n",
    "    \\phi_X(t) = \\phi_{\\sum_j x_j}(t) &= \\prod_{j=1}^n \\phi_{x_j}(t) \\\\\n",
    "    &= \\prod_{j=1}^n \\exp\\Big{(} i t \\mu_j - \\frac{\\sigma_j^2 t^2}{2} \\Big{)} \\\\\n",
    "    &= \\exp\\Big{(} \\sum_{j=1}^n ( i t \\mu_j - \\frac{\\sigma_j^2 t^2}{2}) \\Big{)} \\\\\n",
    "    &= \\exp\\Big{(} i t (\\sum_{j=1}^n \\mu_j) - \\frac{t^2}{2} (\\sum_{j=1}^n \\sigma_j^2) \\Big{)} .\n",
    "\\end{align*}\n",
    "\n",
    "This is the characteristic function of a normally distributed random variable with mean $\\sum_{j=1}^n \\mu_j$ and variance $\\sum_{j=1}^n \\sigma_j^2$. Hence,\n",
    "\n",
    "\\begin{equation*}\n",
    "    X \\sim \\mathcal{N}\\Big{(}\\mu = \\sum_{j=1}^n \\mu_j, \\sigma^2 = \\sum_{j=1}^n \\sigma_j^2\\Big{)} .\n",
    "\\end{equation*}\n",
    "\n",
    "**(ii)** Let $(s_1, s_2, ..., s_n)$ be a collection of independent Gamma distributed random variables such that $s_j \\sim \\textrm{Gamma}(\\alpha_j, \\beta)$, with characteristic function $\\phi_{s_j}(t) = (1 - \\frac{i t}{\\beta})^{-\\alpha_j}$. Let $S = \\sum_{j=1}^n s_j$. Then\n",
    "\n",
    "\\begin{align*}\n",
    "    \\phi_S(t) = \\phi_{\\sum_j s_j}(t) &= \\prod_{j=1}^n \\phi_{s_j}(t) \\\\\n",
    "    &= \\prod_{j=1}^n \\Big{(} 1 - \\frac{i t}{\\beta} \\Big{)}^{-\\alpha_j} \\\\\n",
    "    &= \\Big{(} 1 - \\frac{i t}{\\beta} \\Big{)}^{-\\sum_j \\alpha_j} .\n",
    "\\end{align*}\n",
    "\n",
    "This is the characteristic function of a Gamma distributed random variable with shape parameter $\\alpha = \\sum_{j=1}^n \\alpha_j$ and rate parameter $\\beta$. Hence,\n",
    "\n",
    "\\begin{equation*}\n",
    "    S \\sim \\textrm{Gamma}\\Big{(}\\alpha = \\sum_{j=1}^n \\alpha_j, \\beta \\Big{)} .\n",
    "\\end{equation*}"
   ]
  },
  {
   "cell_type": "markdown",
   "id": "61e1b031",
   "metadata": {},
   "source": [
    "**Question 4**"
   ]
  },
  {
   "cell_type": "code",
   "execution_count": null,
   "id": "70d48d86",
   "metadata": {},
   "outputs": [],
   "source": []
  },
  {
   "cell_type": "markdown",
   "id": "442ffc62",
   "metadata": {},
   "source": [
    "**Question 5**\n",
    "\n",
    "For $x_1 + x_2 + ... + x_k = n$, rearrange to get\n",
    "\n",
    "\\begin{equation*}\n",
    "    x_i = n - \\sum_{j \\neq i}^n x_j .\n",
    "\\end{equation*}\n",
    "\n",
    "On the right-hand side we have two bins where we can place items representing the integer $1$. In the first bin we place $n$ items and in the second bin we place $k-1$ items. We have $n+k-1$ items in total. The number of ways to place items into bins is given by the multinomial coefficient\n",
    "\n",
    "\\begin{equation*}\n",
    "    {n + k-1 \\choose n, k-1} = {n + k-1 \\choose k-1} .\n",
    "\\end{equation*}"
   ]
  },
  {
   "cell_type": "markdown",
   "id": "a8aed745",
   "metadata": {},
   "source": [
    "**Question 6**"
   ]
  },
  {
   "cell_type": "markdown",
   "id": "a818640c",
   "metadata": {},
   "source": [
    "Draw 𝑛 = 30 normally distributed random numbers with mean 𝜇 = 5 and standard\n",
    "deviation 𝜎 = 1, and calculate the sample mean and unbiased sample variance. Repeat this\n",
    "1000 times, and plot density histograms of the sample means and unbiased sample\n",
    "variances. Plot relevant theoretical distributions on top of these density histograms (and\n",
    "explain where these theoretical distributions come from)."
   ]
  },
  {
   "cell_type": "code",
   "execution_count": 41,
   "id": "56382966",
   "metadata": {},
   "outputs": [],
   "source": [
    "# inputs\n",
    "n = 30\n",
    "Nsim = 1000\n",
    "mus = np.zeros(Nsim)\n",
    "sigmas = np.zeros(Nsim)\n",
    "\n",
    "# true mean and standard deviation\n",
    "mean = 5\n",
    "std = 1\n",
    "\n",
    "for i in range(Nsim):\n",
    "    # for Nsim times we generate n random numbers from our distribution\n",
    "    # and compute the sample mean and unbiased sample variance\n",
    "    \n",
    "    sample = np.random.normal(loc=mean, scale=std, size=n)\n",
    "    mus[i] = sample.mean()\n",
    "    sigmas[i] = variance(sample)"
   ]
  },
  {
   "cell_type": "markdown",
   "id": "518a836c",
   "metadata": {},
   "source": [
    "Comment on theoretical distribution of sample mean"
   ]
  },
  {
   "cell_type": "code",
   "execution_count": 42,
   "id": "a0cd233b",
   "metadata": {},
   "outputs": [],
   "source": [
    "binwidth = 0.05\n",
    "\n",
    "# round down our minimum sample mean to nearest binwidth\n",
    "b1 = np.round((mus.min()-binwidth)/binwidth,0)*binwidth\n",
    "\n",
    "# round up our minimum sample mean to nearest binwidth\n",
    "b2 = np.round((mus.max()+binwidth)/binwidth,0)*binwidth"
   ]
  },
  {
   "cell_type": "code",
   "execution_count": 43,
   "id": "dad5d3b0",
   "metadata": {},
   "outputs": [],
   "source": [
    "# theoretical distributions for sample mean\n",
    "bins = np.arange(b1, b2, binwidth)\n",
    "r = np.arange(b1, b2, 0.001)\n",
    "\n",
    "norms = norm.pdf(r, mean, std**2/n)"
   ]
  },
  {
   "cell_type": "code",
   "execution_count": 44,
   "id": "da917b08",
   "metadata": {},
   "outputs": [
    {
     "data": {
      "text/plain": [
       "<matplotlib.legend.Legend at 0x7f538957fd90>"
      ]
     },
     "execution_count": 44,
     "metadata": {},
     "output_type": "execute_result"
    },
    {
     "data": {
      "image/png": "[encoded data removed]",
      "text/plain": [
       "<Figure size 864x576 with 2 Axes>"
      ]
     },
     "metadata": {
      "needs_background": "light"
     },
     "output_type": "display_data"
    }
   ],
   "source": [
    "# density histogram of sample mean\n",
    "fig, ax = plt.subplots(figsize=(12,8))\n",
    "\n",
    "sns.histplot(mus, color='b', element='step', fill=False, bins=bins, stat='probability', label='Sample means (observed)')\n",
    "ax.set_xlim([b1,b2])\n",
    "ax.grid()\n",
    "\n",
    "ax2 = ax.twinx()\n",
    "ax2.plot(r, norms, 'r', label='Theoretical distribution')\n",
    "ax2.set_ylim([0,norms.max()+1])\n",
    "ax2.set_ylabel('PDF')\n",
    "\n",
    "# ask matplotlib for the plotted objects and their labels\n",
    "lines, labels = ax.get_legend_handles_labels()\n",
    "lines2, labels2 = ax2.get_legend_handles_labels()\n",
    "ax2.legend(lines + lines2, labels + labels2, loc=0)"
   ]
  },
  {
   "cell_type": "markdown",
   "id": "6f3c0122",
   "metadata": {},
   "source": [
    "comment on theoretical distribution of unbiased sample variance"
   ]
  },
  {
   "cell_type": "code",
   "execution_count": 45,
   "id": "ac0c5801",
   "metadata": {},
   "outputs": [],
   "source": [
    "binwidth = 0.05\n",
    "\n",
    "# round down our minimum sample variance to nearest binwidth\n",
    "b1 = np.round((sigmas.min()-binwidth)/binwidth,0)*binwidth\n",
    "\n",
    "# round up our minimum sample variance to nearest binwidth\n",
    "b2 = np.round((sigmas.max()+binwidth)/binwidth,0)*binwidth"
   ]
  },
  {
   "cell_type": "code",
   "execution_count": 46,
   "id": "dc9b131a",
   "metadata": {},
   "outputs": [],
   "source": [
    "# theoretical distributions for sample mean\n",
    "bins = np.arange(b1, b2, binwidth)\n",
    "r = np.arange(b1, b2, 0.01)\n",
    "\n",
    "chis = (std**2/(n-1))*chi2.pdf(r, n-1)"
   ]
  },
  {
   "cell_type": "code",
   "execution_count": 47,
   "id": "13395eca",
   "metadata": {},
   "outputs": [
    {
     "data": {
      "text/plain": [
       "<matplotlib.legend.Legend at 0x7f5389593100>"
      ]
     },
     "execution_count": 47,
     "metadata": {},
     "output_type": "execute_result"
    },
    {
     "data": {
      "image/png": "[encoded data removed]",
      "text/plain": [
       "<Figure size 864x576 with 2 Axes>"
      ]
     },
     "metadata": {
      "needs_background": "light"
     },
     "output_type": "display_data"
    }
   ],
   "source": [
    "# density histogram of unbiased sample variance\n",
    "fig, ax = plt.subplots(figsize=(12,8))\n",
    "\n",
    "sns.histplot(sigmas, color='b', element='step', fill=False, bins=bins, stat='probability', label='Sample means (observed)')\n",
    "ax.set_xlim([b1,b2])\n",
    "ax.grid()\n",
    "\n",
    "ax2 = ax.twinx()\n",
    "ax2.plot(r, chis, 'r', label='Theoretical distribution')\n",
    "ax2.set_ylim([0,chis.max()])\n",
    "ax2.set_ylabel('PDF')\n",
    "\n",
    "# ask matplotlib for the plotted objects and their labels\n",
    "lines, labels = ax.get_legend_handles_labels()\n",
    "lines2, labels2 = ax2.get_legend_handles_labels()\n",
    "ax2.legend(lines + lines2, labels + labels2, loc=0)"
   ]
  },
  {
   "cell_type": "markdown",
   "id": "0e691a15",
   "metadata": {},
   "source": [
    "**Question 7**"
   ]
  },
  {
   "cell_type": "code",
   "execution_count": 48,
   "id": "e46db3f7",
   "metadata": {},
   "outputs": [
    {
     "name": "stdout",
     "output_type": "stream",
     "text": [
      "significance level = 0.05\n",
      "z-statistic = 1.876\n",
      "p-value: 0.0303\n",
      "We reject H0: mu_x = mu_y (both courses are equally intelligent)\n"
     ]
    }
   ],
   "source": [
    "# data\n",
    "Mathsys = np.array([65, 73, 51, 67, 48, 80, 69, 83, 89, 62, 71, 67, 64, 78, 85, 49, 80, 60, 51, 70])\n",
    "others = np.array([63, 72, 47, 63, 44, 78, 67, 52, 54, 58, 68, 65, 63, 77, 62, 46, 78, 56, 49, 65])\n",
    "\n",
    "# sample sizes, means and unbiased variances\n",
    "n_x = len(Mathsys)\n",
    "n_y = len(others)\n",
    "mu_x = Mathsys.mean()\n",
    "mu_y = others.mean()\n",
    "var_x = variance(Mathsys)\n",
    "var_y = variance(others)\n",
    "\n",
    "# null hypothesis and significance level\n",
    "H0 = 'mu_x = mu_y (both courses are equally intelligent)'\n",
    "alpha = 0.05\n",
    "print('significance level = %.2f' % alpha)\n",
    "\n",
    "# z-statistic\n",
    "stat = (mu_x - mu_y)/np.sqrt(var_x/n_x + var_y/n_y)\n",
    "print('z-statistic = %.3f' % stat)\n",
    "\n",
    "# p-value\n",
    "p = norm.sf(abs(stat))\n",
    "print('p-value: %.4f' % p)\n",
    "    \n",
    "if p < alpha:\n",
    "    print('We reject H0: ' + H0)\n",
    "\n",
    "else:\n",
    "    print('We fail to reject H0: ' + H0)"
   ]
  },
  {
   "cell_type": "markdown",
   "id": "8bf84c39",
   "metadata": {},
   "source": [
    "The p-value represents the probability of more extreme values than our given data occuring given the null hypothesis $H_0$ is true. If our p-value is less than the significance level (the probability of a Type I error), it means that more extreme data is unlikely to occur and we should reject $H_0$. In the case of the data above, the null hypothesis will be rejected for all significance levels greater than 0.0303.\n",
    "\n",
    "Since our sample sizes $n_x$ and $n_y$ are rather small, the z-statistic does not resemble a true normal distribution, and it is not truly appropriate to use a two-sample z-test. Instead, we should consider a two-sample t-test. The statistic would be the same, however it follows a t distribution with $n_x + n_y - 2$ degrees of freedom, which would result in a different computation of the p-value."
   ]
  },
  {
   "cell_type": "markdown",
   "id": "cad480e4",
   "metadata": {},
   "source": [
    "**Question 8**"
   ]
  },
  {
   "cell_type": "markdown",
   "id": "770c92af",
   "metadata": {},
   "source": [
    "(ii) Explain how, in general, given a unimodal posterior distribution for a model parameter 𝛼,\n",
    "the 90% highest density credible interval can be approximated numerically"
   ]
  },
  {
   "cell_type": "code",
   "execution_count": 70,
   "id": "56df42bb",
   "metadata": {},
   "outputs": [
    {
     "name": "stdout",
     "output_type": "stream",
     "text": [
      "HHTTTHHTHHHHTTTTHTHHTHTHHHHTHHHHTHHTTTTTHTTHHHHTTTTHHHHHTTHHHHHHHTTTHTTTHHHHHHHTHTHHTHHHTHHTTTTHHHHH\n",
      "60\n"
     ]
    }
   ],
   "source": [
    "# (i)\n",
    "# generating N=100 flips of a biased coin (probability of head = 0.7)\n",
    "def biased_coin(N, p):\n",
    "    seq = ''\n",
    "    heads = 0\n",
    "    \n",
    "    for i in range(N):\n",
    "        r = np.random.rand()\n",
    "        if r < p:\n",
    "            seq += 'H'\n",
    "            heads += 1\n",
    "        else:\n",
    "            seq += 'T'\n",
    "\n",
    "    return [seq, heads]\n",
    "\n",
    "N = 100\n",
    "p = 0.7\n",
    "\n",
    "[seq, h] = biased_coin(N, p)\n",
    "print(seq)\n",
    "print(h)"
   ]
  },
  {
   "cell_type": "markdown",
   "id": "a7a19ddb",
   "metadata": {},
   "source": [
    "The likelihood function is\n",
    "\n",
    "\\begin{align*}\n",
    "    \\mathbb{P}(D | p) &= \\prod_{k=1}^N \\mathbb{P}(\\textrm{flip k} | p) \\\\\n",
    "    &= p^h (1 - p)^{(N - h)}\n",
    "\\end{align*}\n",
    "\n",
    "where $h$ denotes the number of heads occuring."
   ]
  },
  {
   "cell_type": "code",
   "execution_count": 71,
   "id": "1e732beb",
   "metadata": {},
   "outputs": [],
   "source": [
    "# prior distribution functions and posterior as a function of likelihood and prior\n",
    "\n",
    "def prior_dist1(p):\n",
    "    return uniform.pdf(p, 0, 1)\n",
    "\n",
    "def prior_dist2(p):\n",
    "    return p*(1-p**4)\n",
    "\n",
    "\n",
    "def posterior(h, N, p, prior):\n",
    "        \n",
    "    likelihood = p**h*(1-p)**(N-h)\n",
    "    return likelihood*prior(ps)"
   ]
  },
  {
   "cell_type": "code",
   "execution_count": 72,
   "id": "17881534",
   "metadata": {},
   "outputs": [],
   "source": [
    "ps = np.linspace(0,1,10001)\n",
    "\n",
    "prior1 = prior_dist1(ps)\n",
    "prior2 = prior_dist2(ps)\n",
    "post1 = posterior(h, N, ps, prior_dist1)\n",
    "post2 = posterior(h, N, ps, prior_dist2)"
   ]
  },
  {
   "cell_type": "code",
   "execution_count": 86,
   "id": "a85b7a18",
   "metadata": {},
   "outputs": [
    {
     "data": {
      "text/plain": [
       "<matplotlib.legend.Legend at 0x7f5387e724c0>"
      ]
     },
     "execution_count": 86,
     "metadata": {},
     "output_type": "execute_result"
    },
    {
     "data": {
      "image/png": "[encoded data removed]",
      "text/plain": [
       "<Figure size 864x576 with 2 Axes>"
      ]
     },
     "metadata": {
      "needs_background": "light"
     },
     "output_type": "display_data"
    }
   ],
   "source": [
    "# plotting\n",
    "\n",
    "fig, ax = plt.subplots(figsize=(12,8))\n",
    "\n",
    "ax.plot(ps,post1,'b',label='Posterior distribution (Prior 1)')\n",
    "ax.plot(ps,post2,'r',label='Posterior distribution (Prior 2)')\n",
    "#plt.legend(loc='best')\n",
    "ax.set_xlabel('$p$')\n",
    "ax.set_ylabel('Density')\n",
    "ax.grid()\n",
    "\n",
    "ax2 = ax.twinx()\n",
    "ax2.plot(ps,prior1,'b--',label='Prior distribution (uniform)')\n",
    "ax2.plot(ps,prior2,'r--',label='Prior distribution $\\propto p(1-p^4)$')\n",
    "ax.set_ylabel('Prior PDF')\n",
    "\n",
    "lines, labels = ax.get_legend_handles_labels()\n",
    "lines2, labels2 = ax2.get_legend_handles_labels()\n",
    "ax2.legend(lines + lines2, labels + labels2, loc='center left')"
   ]
  },
  {
   "cell_type": "markdown",
   "id": "c7ff8656",
   "metadata": {},
   "source": [
    "**(ii):**"
   ]
  },
  {
   "cell_type": "markdown",
   "id": "edbd7bb6",
   "metadata": {},
   "source": [
    "**Question 9**\n",
    "\n",
    "For a single draw $x_1$, the likelihood of $x_1$ given parameter $\\lambda$ is\n",
    "\n",
    "\\begin{equation*}\n",
    "    \\mathbb{P}(x_1 | \\lambda) = \\lambda e^{- \\lambda x_1} .\n",
    "\\end{equation*}\n",
    "\n",
    "For $n$ independent draws, the likelihood of the data $D = \\{x_k\\}_{k=1}^n$ given parameter $\\lambda$ is\n",
    "\n",
    "\\begin{align*}\n",
    "    \\mathbb{P}(D | \\lambda) &= \\prod_{k=1}^n \\lambda e^{- \\lambda x_k} \\\\\n",
    "    &= \\lambda^n e^{- \\lambda \\sum_{k=1}^n x_k} \\\\\n",
    "    &= \\lambda^n e^{- \\lambda n \\bar{X}} ,\n",
    "\\end{align*}\n",
    "\n",
    "where $\\bar{X} = \\frac{1}{n} \\sum_{k=1}^n x_k$. The prior for parameter $\\lambda$ is a Gamma distribution with shape parameter $\\alpha$ and rate parameter $\\beta$, so\n",
    "\n",
    "\\begin{equation*}\n",
    "    \\mathbb{P}(\\lambda) = \\frac{\\beta^\\alpha}{\\Gamma(\\alpha)} \\lambda^{\\alpha - 1} e^{- \\beta \\lambda} .\n",
    "\\end{equation*}\n",
    "\n",
    "The posterior is given by\n",
    "\n",
    "\\begin{align*}\n",
    "    \\mathbb{P}(\\lambda | D) &\\propto \\mathbb{P}(D | \\lambda) \\mathbb{P}(\\lambda) \\\\\n",
    "    &\\propto \\lambda^n e^{- \\lambda n \\bar{X}} \\frac{\\beta^\\alpha}{\\Gamma(\\alpha)} \\lambda^{\\alpha - 1} e^{- \\beta \\lambda} \\\\\n",
    "    &\\propto \\lambda^{n + \\alpha - 1} e^{- \\lambda (n \\bar{X} + \\beta)} .\n",
    "\\end{align*}\n",
    "\n",
    "Thus, we must have that the posterior is a gamma distribution,\n",
    "\n",
    "\\begin{equation*}\n",
    "    \\mathbb{P}(\\lambda | D) \\sim \\textrm{Gamma}(\\hat{\\alpha} = n + \\alpha, \\hat{\\beta} = n \\bar{X} + \\beta)\n",
    "\\end{equation*}\n",
    "\n",
    "with shape parameter $\\hat{\\alpha}$ and rate parameter $\\hat{\\beta}$ specified above."
   ]
  },
  {
   "cell_type": "code",
   "execution_count": null,
   "id": "239a5f9f",
   "metadata": {},
   "outputs": [],
   "source": []
  }
 ],
 "metadata": {
  "kernelspec": {
   "display_name": "Python 3 (ipykernel)",
   "language": "python",
   "name": "python3"
  },
  "language_info": {
   "codemirror_mode": {
    "name": "ipython",
    "version": 3
   },
   "file_extension": ".py",
   "mimetype": "text/x-python",
   "name": "python",
   "nbconvert_exporter": "python",
   "pygments_lexer": "ipython3",
   "version": "3.9.12"
  }
 },
 "nbformat": 4,
 "nbformat_minor": 5
}
