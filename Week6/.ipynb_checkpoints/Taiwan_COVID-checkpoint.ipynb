{
 "cells": [
  {
   "cell_type": "code",
   "execution_count": 19,
   "id": "9da30d2a",
   "metadata": {},
   "outputs": [],
   "source": [
    "# import libraries\n",
    "import numpy as np\n",
    "import matplotlib.pyplot as plt\n",
    "import seaborn as sns\n",
    "import pandas as pd\n",
    "import math as m\n",
    "\n",
    "#plotting\n",
    "plt.rcParams.update({'font.size': 16})"
   ]
  },
  {
   "cell_type": "code",
   "execution_count": 46,
   "id": "aed7d260",
   "metadata": {},
   "outputs": [],
   "source": [
    "# dataset\n",
    "taiwan_daily = np.array([2,0,0,0,1,1,1,4,1,0,2,1,2,0,0,0,0,0,4,0,0,0,0,0,1,0,0,0,1])\n",
    "taiwan_total = np.cumsum(taiwan_daily)\n",
    "M = len(taiwan_daily)"
   ]
  },
  {
   "cell_type": "code",
   "execution_count": 47,
   "id": "855d7bb9",
   "metadata": {},
   "outputs": [],
   "source": [
    "# offspring distribution\n",
    "def Offspring(R0, k, Omax):\n",
    "    # function creates an offspring distribution \n",
    "    # R0: mean\n",
    "    # k: overdispersion parameter\n",
    "    # Omax: maximum number of offspring o to consider\n",
    "    children = np.zeros(Omax+1)\n",
    "    os = np.arange(0,Omax+1)\n",
    "    \n",
    "    # Draws number from offspring distribution with P(O = o)\n",
    "    for o in os:\n",
    "        children[o] = m.gamma(k+o)/(m.factorial(o)*m.gamma(k))*((R0/(R0+k))**o)*(1+R0/k)**-k\n",
    "    \n",
    "    return children"
   ]
  },
  {
   "cell_type": "code",
   "execution_count": 50,
   "id": "2d404b75",
   "metadata": {
    "scrolled": true
   },
   "outputs": [
    {
     "name": "stdout",
     "output_type": "stream",
     "text": [
      "0.9999999999996602\n"
     ]
    },
    {
     "data": {
      "text/plain": [
       "[<matplotlib.lines.Line2D at 0x7f3c243bf280>]"
      ]
     },
     "execution_count": 50,
     "metadata": {},
     "output_type": "execute_result"
    },
    {
     "data": {
      "image/png": "[encoded data removed]",
      "text/plain": [
       "<Figure size 432x288 with 1 Axes>"
      ]
     },
     "metadata": {
      "needs_background": "light"
     },
     "output_type": "display_data"
    }
   ],
   "source": [
    "# sanity check\n",
    "offspring_test = Offspring(1.3, 0.38, 100)\n",
    "print(np.sum(offspring_test))\n",
    "\n",
    "plt.plot(offspring_test)"
   ]
  },
  {
   "cell_type": "code",
   "execution_count": 51,
   "id": "716e61fb",
   "metadata": {},
   "outputs": [
    {
     "data": {
      "text/plain": [
       "1.0"
      ]
     },
     "execution_count": 51,
     "metadata": {},
     "output_type": "execute_result"
    }
   ],
   "source": [
    "# serial interval\n",
    "serial_interval = np.array([0,0.05,0.1,0.3,0.25,0.1,0.05,0.05,0.05,0.03,0.02])\n",
    "np.sum(serial_interval)"
   ]
  },
  {
   "cell_type": "code",
   "execution_count": 123,
   "id": "eb6acf80",
   "metadata": {},
   "outputs": [],
   "source": [
    "def Simulation(R0, k, t, Nsim):\n",
    "    # function which performs simulations of new secondary cases, dependent on random numbers arising from\n",
    "    # offspring distribution & serial interval\n",
    "    # returns proportion of simulations which records cases beyond day t (outbreak) \n",
    "    \n",
    "    # INPUTS:\n",
    "    # R0: mean of offspring distribution\n",
    "    # k: overdispersion of offspring distribution\n",
    "    # M: days of recorded data\n",
    "    # Nsim: number of simulations to run\n",
    "    \n",
    "    # historic days\n",
    "    days = np.arange(1,M+1)\n",
    "    # stores instances of outbreaks\n",
    "    outbreaks = 0\n",
    "    \n",
    "    for n in range(Nsim):        \n",
    "        # stores dates of secondary infections\n",
    "        newdates = []\n",
    "    \n",
    "        for j in days:\n",
    "            newcases = taiwan_daily[j-1]\n",
    "        \n",
    "            for i in range(newcases):\n",
    "                # draw random number from offspring distribution\n",
    "                O = np.random.choice(range(101), p = Offspring(R0,k,100))\n",
    "            \n",
    "                for o in range(O):\n",
    "                    # draw random number from serial interval\n",
    "                    S = np.random.choice(range(11), p = serial_interval)\n",
    "        \n",
    "                    # assign date of infection to new case\n",
    "                    newdates += [j+S]\n",
    "    \n",
    "        # record an outbreak if any secondary cases arise after day M\n",
    "        if max(newdates) > t:\n",
    "            outbreaks += 1\n",
    "    \n",
    "    return outbreaks/Nsim"
   ]
  },
  {
   "cell_type": "code",
   "execution_count": 128,
   "id": "fd4bf3bf",
   "metadata": {
    "scrolled": false
   },
   "outputs": [
    {
     "data": {
      "text/plain": [
       "0.527"
      ]
     },
     "execution_count": 128,
     "metadata": {},
     "output_type": "execute_result"
    }
   ],
   "source": [
    "# parameters\n",
    "R0 = 1.3\n",
    "k = 0.38\n",
    "t = M+1\n",
    "N = 1000\n",
    "\n",
    "Simulation(R0,k,t,N)"
   ]
  },
  {
   "cell_type": "code",
   "execution_count": 129,
   "id": "a93d0e31",
   "metadata": {},
   "outputs": [],
   "source": [
    "future = 15\n",
    "ts = np.arange(M,M+future)\n",
    "probs = np.zeros(future)\n",
    "\n",
    "for t in ts:\n",
    "    probs[t-M] = Simulation(R0,k,t,N)"
   ]
  },
  {
   "cell_type": "code",
   "execution_count": 140,
   "id": "3899d109",
   "metadata": {},
   "outputs": [
    {
     "data": {
      "text/plain": [
       "Text(0, 0.5, 'Probability of Outbreak')"
      ]
     },
     "execution_count": 140,
     "metadata": {},
     "output_type": "execute_result"
    },
    {
     "data": {
      "image/png": "[encoded data removed]",
      "text/plain": [
       "<Figure size 1008x432 with 2 Axes>"
      ]
     },
     "metadata": {
      "needs_background": "light"
     },
     "output_type": "display_data"
    }
   ],
   "source": [
    "# plotting\n",
    "fig, ax = plt.subplots(figsize=(14,6))\n",
    "dates = ['12-Jan','13-Jan','14-Jan','15-Jan','16-Jan','17-Jan','18-Jan','19-Jan','20-Jan','21-Jan','22-Jan',\n",
    "         '23-Jan','24-Jan','25-Jan','26-Jan','27-Jan','28-Jan','29-Jan','30-Jan','31-Jan','1-Feb','2-Feb',\n",
    "         '3-Feb','4-Feb','5-Feb','6-Feb','7-Feb','8-Feb','9-Feb']\n",
    "\n",
    "ax.bar(x=dates, height=taiwan_daily, color='y', edgecolor='k')\n",
    "ax.set_xticks(dates,rotation=90,size=2)\n",
    "ax.set_xlabel('Day')\n",
    "ax.set_ylabel('Cases')\n",
    "#ax.grid()\n",
    "\n",
    "ax2 = ax.twinx()\n",
    "ax2.plot(range(M+1,M+future+1),probs,'b')\n",
    "ax2.set_ylim([0,1])\n",
    "ax2.set_ylabel('Probability of Outbreak')\n",
    "#ax2.grid()"
   ]
  },
  {
   "cell_type": "code",
   "execution_count": null,
   "id": "010dad45",
   "metadata": {},
   "outputs": [],
   "source": []
  }
 ],
 "metadata": {
  "kernelspec": {
   "display_name": "Python 3 (ipykernel)",
   "language": "python",
   "name": "python3"
  },
  "language_info": {
   "codemirror_mode": {
    "name": "ipython",
    "version": 3
   },
   "file_extension": ".py",
   "mimetype": "text/x-python",
   "name": "python",
   "nbconvert_exporter": "python",
   "pygments_lexer": "ipython3",
   "version": "3.9.12"
  }
 },
 "nbformat": 4,
 "nbformat_minor": 5
}
