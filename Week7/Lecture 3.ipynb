{
 "cells": [
  {
   "cell_type": "code",
   "execution_count": 1,
   "id": "663ad5f9",
   "metadata": {},
   "outputs": [],
   "source": [
    "# import libraries\n",
    "import numpy as np\n",
    "import matplotlib.pyplot as plt\n",
    "import seaborn as sns\n",
    "import math as m\n",
    "\n",
    "#plotting\n",
    "plt.rcParams.update({'font.size': 16})"
   ]
  },
  {
   "cell_type": "markdown",
   "id": "fa2f0b05",
   "metadata": {},
   "source": [
    "**Exercise 3.2 (i)**"
   ]
  },
  {
   "cell_type": "code",
   "execution_count": 2,
   "id": "4ba5b583",
   "metadata": {},
   "outputs": [],
   "source": [
    "def bisection(f, a, b, tol):\n",
    "    ai = a\n",
    "    bi = b\n",
    "    \n",
    "    while f(ai)*f(bi) > 0:\n",
    "        bi = (ai + bi)/2\n",
    "    \n",
    "    xi = (ai + bi)/2\n",
    "    while (bi - ai) >= tol:\n",
    "\n",
    "        if f(xi)*f(ai) < 0:\n",
    "            bi = xi\n",
    "            xi = (ai + bi)/2\n",
    "        \n",
    "        elif f(xi)*f(bi) < 0:\n",
    "            ai = xi\n",
    "            xi = (ai + bi)/2\n",
    "            \n",
    "        else:\n",
    "            print('whoops')\n",
    "    \n",
    "    return xi"
   ]
  },
  {
   "cell_type": "code",
   "execution_count": 3,
   "id": "8f236595",
   "metadata": {},
   "outputs": [],
   "source": [
    "def ClopperPearson(n, x, alpha):\n",
    "    \n",
    "    def Binprob(x, p):\n",
    "        P = 0\n",
    "        for k in range(x+1):\n",
    "            P += m.comb(n, k)*p**k*(1-p)**(n-k)\n",
    "        return P\n",
    "\n",
    "    def P1(p):\n",
    "        return Binprob(x, p) - (1 - alpha/2)\n",
    "    \n",
    "    def P2(p):\n",
    "        return Binprob(x, p) - alpha/2\n",
    "    \n",
    "    p1 = bisection(P1, 0, 1, 1e-8)\n",
    "    p2 = bisection(P2, 0, 1, 1e-8)\n",
    "    \n",
    "    return [p1, p2]"
   ]
  },
  {
   "cell_type": "code",
   "execution_count": 4,
   "id": "91e0f91a",
   "metadata": {},
   "outputs": [
    {
     "data": {
      "text/plain": [
       "[0.3152781315147877, 0.7280421517789364]"
      ]
     },
     "execution_count": 4,
     "metadata": {},
     "output_type": "execute_result"
    }
   ],
   "source": [
    "ClopperPearson(20, 10, 0.05)"
   ]
  },
  {
   "cell_type": "markdown",
   "id": "747cf8f0",
   "metadata": {},
   "source": [
    "**Exercise 3.2 (ii)**"
   ]
  },
  {
   "cell_type": "code",
   "execution_count": 5,
   "id": "c22b17b0",
   "metadata": {},
   "outputs": [
    {
     "data": {
      "text/plain": [
       "[0.7353515289723873, 0.9978924058377743]"
      ]
     },
     "execution_count": 5,
     "metadata": {},
     "output_type": "execute_result"
    }
   ],
   "source": [
    "ClopperPearson(12, 11, 0.05)"
   ]
  },
  {
   "cell_type": "markdown",
   "id": "0c934120",
   "metadata": {},
   "source": [
    "**Exercise 3.3**"
   ]
  },
  {
   "cell_type": "code",
   "execution_count": 6,
   "id": "4be10cfc",
   "metadata": {},
   "outputs": [
    {
     "name": "stdout",
     "output_type": "stream",
     "text": [
      "-2.347382389307855\n",
      "We reject H0: The school matches the national average mark\n"
     ]
    }
   ],
   "source": [
    "from scipy.stats import norm\n",
    "\n",
    "mu = 75\n",
    "sigma = 7\n",
    "\n",
    "mu_s = 72\n",
    "n_s = 30\n",
    "\n",
    "stat = (mu_s - mu)/(sigma/np.sqrt(n_s))\n",
    "\n",
    "H0 = 'The school matches the national average mark'\n",
    "alpha = 0.01\n",
    "\n",
    "print(stat)\n",
    "\n",
    "p = norm.sf(abs(stat))\n",
    "\n",
    "if p < alpha:\n",
    "    print('We reject H0: ' + H0)\n",
    "\n",
    "else:\n",
    "    print('We fail to reject H0: ' + H0)"
   ]
  },
  {
   "cell_type": "markdown",
   "id": "ea906223",
   "metadata": {},
   "source": [
    "**Exercise 3.4**"
   ]
  },
  {
   "cell_type": "code",
   "execution_count": 7,
   "id": "06aefe7c",
   "metadata": {},
   "outputs": [
    {
     "data": {
      "text/plain": [
       "array([0.01, 0.02, 0.03, 0.04, 0.05, 0.06, 0.07, 0.08, 0.09, 0.1 , 0.11,\n",
       "       0.12, 0.13, 0.14, 0.15, 0.16, 0.17, 0.18, 0.19, 0.2 , 0.21, 0.22,\n",
       "       0.23, 0.24, 0.25, 0.26, 0.27, 0.28, 0.29, 0.3 , 0.31, 0.32, 0.33,\n",
       "       0.34, 0.35, 0.36, 0.37, 0.38, 0.39, 0.4 , 0.41, 0.42, 0.43, 0.44,\n",
       "       0.45, 0.46, 0.47, 0.48, 0.49, 0.51, 0.52, 0.53, 0.54, 0.55, 0.56,\n",
       "       0.57, 0.58, 0.59, 0.6 , 0.61, 0.62, 0.63, 0.64, 0.65, 0.66, 0.67,\n",
       "       0.68, 0.69, 0.7 , 0.71, 0.72, 0.73, 0.74, 0.75, 0.76, 0.77, 0.78,\n",
       "       0.79, 0.8 , 0.81, 0.82, 0.83, 0.84, 0.85, 0.86, 0.87, 0.88, 0.89,\n",
       "       0.9 , 0.91, 0.92, 0.93, 0.94, 0.95, 0.96, 0.97, 0.98, 0.99])"
      ]
     },
     "execution_count": 7,
     "metadata": {},
     "output_type": "execute_result"
    }
   ],
   "source": [
    "p1s = np.arange(0.01,0.5,0.01)\n",
    "p2s = np.arange(0.51,1.0,0.01)\n",
    "ps = np.hstack((p1s,p2s))\n",
    "ps"
   ]
  },
  {
   "cell_type": "code",
   "execution_count": 8,
   "id": "27b61565",
   "metadata": {},
   "outputs": [],
   "source": [
    "def Pfair(n, p):\n",
    "    P = 0\n",
    "    for k in range(40,61):\n",
    "        P += m.comb(n, k)*p**k*(1-p)**(n-k)\n",
    "    return P\n",
    "\n",
    "def Pextr(n, p):\n",
    "    return 1 - Pfair(n, p)"
   ]
  },
  {
   "cell_type": "code",
   "execution_count": 9,
   "id": "f0efa589",
   "metadata": {},
   "outputs": [
    {
     "data": {
      "image/png": "[encoded data removed]",
      "text/plain": [
       "<Figure size 432x288 with 1 Axes>"
      ]
     },
     "metadata": {
      "needs_background": "light"
     },
     "output_type": "display_data"
    }
   ],
   "source": [
    "for p in ps:\n",
    "    #print(Pextr(100, p))\n",
    "    plt.plot(p, Pextr(100, p), 'ko')"
   ]
  },
  {
   "cell_type": "code",
   "execution_count": 10,
   "id": "7c518be7",
   "metadata": {},
   "outputs": [],
   "source": [
    "def beta(n, p):\n",
    "    stat1 = (40 - n*p)/(np.sqrt(n)*p*(1-p))\n",
    "    stat2 = (60 - n*p)/(np.sqrt(n)*p*(1-p))\n",
    "    return norm.sf(abs(stat1)) + norm.sf(abs(stat2))"
   ]
  },
  {
   "cell_type": "code",
   "execution_count": 11,
   "id": "3ca296da",
   "metadata": {},
   "outputs": [
    {
     "data": {
      "image/png": "[encoded data removed]",
      "text/plain": [
       "<Figure size 432x288 with 1 Axes>"
      ]
     },
     "metadata": {
      "needs_background": "light"
     },
     "output_type": "display_data"
    }
   ],
   "source": [
    "for p in ps:\n",
    "    #print(Pextr(100, p))\n",
    "    plt.plot(p, beta(100, p), 'ko')"
   ]
  },
  {
   "cell_type": "markdown",
   "id": "5ea3cff1",
   "metadata": {},
   "source": [
    "**Exercise 3.5**"
   ]
  },
  {
   "cell_type": "code",
   "execution_count": 12,
   "id": "37f36f18",
   "metadata": {
    "scrolled": false
   },
   "outputs": [
    {
     "name": "stdout",
     "output_type": "stream",
     "text": [
      "\n",
      "\n",
      "m =  5\n",
      "z = -2.179\n",
      "p-value: 0.015\n",
      "We fail to reject H0: mu = 0.5\n",
      "\n",
      "\n",
      "m =  10\n",
      "z = 0.828\n",
      "p-value: 0.204\n",
      "We fail to reject H0: mu = 0.5\n",
      "\n",
      "\n",
      "m =  15\n",
      "z = 6.722\n",
      "p-value: 0.000\n",
      "We reject H0: mu = 0.5\n",
      "\n",
      "\n",
      "m =  20\n",
      "z = -7.392\n",
      "p-value: 0.000\n",
      "We reject H0: mu = 0.5\n",
      "\n",
      "\n",
      "m =  25\n",
      "z = 0.500\n",
      "p-value: 0.308\n",
      "We fail to reject H0: mu = 0.5\n",
      "\n",
      "\n",
      "m =  30\n",
      "z = 4.078\n",
      "p-value: 0.000\n",
      "We reject H0: mu = 0.5\n",
      "\n",
      "\n",
      "m =  35\n",
      "z = -5.384\n",
      "p-value: 0.000\n",
      "We reject H0: mu = 0.5\n",
      "\n",
      "\n",
      "m =  40\n",
      "z = 7.493\n",
      "p-value: 0.000\n",
      "We reject H0: mu = 0.5\n",
      "\n",
      "\n",
      "m =  45\n",
      "z = -2.479\n",
      "p-value: 0.007\n",
      "We reject H0: mu = 0.5\n",
      "\n",
      "\n",
      "m =  50\n",
      "z = 0.152\n",
      "p-value: 0.440\n",
      "We fail to reject H0: mu = 0.5\n",
      "\n",
      "\n",
      "m =  55\n",
      "z = 2.335\n",
      "p-value: 0.010\n",
      "We reject H0: mu = 0.5\n",
      "\n",
      "\n",
      "m =  60\n",
      "z = -5.904\n",
      "p-value: 0.000\n",
      "We reject H0: mu = 0.5\n",
      "\n",
      "\n",
      "m =  65\n",
      "z = 2.168\n",
      "p-value: 0.015\n",
      "We fail to reject H0: mu = 0.5\n",
      "\n",
      "\n",
      "m =  70\n",
      "z = 0.706\n",
      "p-value: 0.240\n",
      "We fail to reject H0: mu = 0.5\n",
      "\n",
      "\n",
      "m =  75\n",
      "z = -0.538\n",
      "p-value: 0.295\n",
      "We fail to reject H0: mu = 0.5\n",
      "\n",
      "\n",
      "m =  80\n",
      "z = 1.067\n",
      "p-value: 0.143\n",
      "We fail to reject H0: mu = 0.5\n",
      "\n",
      "\n",
      "m =  85\n",
      "z = -1.795\n",
      "p-value: 0.036\n",
      "We fail to reject H0: mu = 0.5\n",
      "\n",
      "\n",
      "m =  90\n",
      "z = -2.091\n",
      "p-value: 0.018\n",
      "We fail to reject H0: mu = 0.5\n",
      "\n",
      "\n",
      "m =  95\n",
      "z = 7.254\n",
      "p-value: 0.000\n",
      "We reject H0: mu = 0.5\n",
      "\n",
      "\n",
      "m =  100\n",
      "z = -3.472\n",
      "p-value: 0.000\n",
      "We reject H0: mu = 0.5\n"
     ]
    }
   ],
   "source": [
    "mu = 0.5\n",
    "sigma = 1/12\n",
    "alpha = 0.01\n",
    "H0 = 'mu = 0.5'\n",
    "\n",
    "ms = np.arange(5,105,5)\n",
    "\n",
    "for m in ms:\n",
    "    print('\\n')\n",
    "    print('m = ',m)\n",
    "    ns = np.random.uniform(size=m)\n",
    "    nhat = ns.mean()\n",
    "\n",
    "    stat = (nhat - mu)/(sigma/np.sqrt(m))\n",
    "    print('z = %.3f' % stat)\n",
    "\n",
    "    p = norm.sf(abs(stat))\n",
    "    print('p-value: %.3f' % p)\n",
    "    \n",
    "    if p < alpha:\n",
    "        print('We reject H0: ' + H0)\n",
    "\n",
    "    else:\n",
    "        print('We fail to reject H0: ' + H0)"
   ]
  },
  {
   "cell_type": "markdown",
   "id": "7c687ff5",
   "metadata": {},
   "source": [
    "**Exercise 3.6**"
   ]
  },
  {
   "cell_type": "code",
   "execution_count": 13,
   "id": "01b26522",
   "metadata": {},
   "outputs": [
    {
     "name": "stdout",
     "output_type": "stream",
     "text": [
      "68.1\n",
      "61.35\n",
      "z = 1.876\n",
      "p-value: 0.030\n",
      "We reject H0: mu_x = mu_y\n"
     ]
    }
   ],
   "source": [
    "from statistics import variance\n",
    "\n",
    "Mathsys = np.array([65, 73, 51, 67, 48, 80, 69, 83, 89, 62, 71, 67, 64, 78, 85, 49, 80, 60, 51, 70])\n",
    "plebs = np.array([63, 72, 47, 63, 44, 78, 67, 52, 54, 58, 68, 65, 63, 77, 62, 46, 78, 56, 49, 65])\n",
    "\n",
    "n_x = len(Mathsys)\n",
    "n_y = len(plebs)\n",
    "mu_x = Mathsys.mean()\n",
    "mu_y = plebs.mean()\n",
    "var_x = variance(Mathsys)\n",
    "var_y = variance(plebs)\n",
    "print(mu_x)\n",
    "print(mu_y)\n",
    "\n",
    "H0 = 'mu_x = mu_y'\n",
    "alpha = 0.05\n",
    "\n",
    "stat = (mu_x - mu_y)/np.sqrt(var_x/n_x + var_y/n_y)\n",
    "print('z = %.3f' % stat)\n",
    "\n",
    "p = norm.sf(abs(stat))\n",
    "print('p-value: %.3f' % p)\n",
    "    \n",
    "if p < alpha:\n",
    "    print('We reject H0: ' + H0)\n",
    "\n",
    "else:\n",
    "    print('We fail to reject H0: ' + H0)"
   ]
  },
  {
   "cell_type": "markdown",
   "id": "1460461a",
   "metadata": {},
   "source": [
    "**Exercise 3.7**"
   ]
  },
  {
   "cell_type": "code",
   "execution_count": 14,
   "id": "cf02d9df",
   "metadata": {},
   "outputs": [
    {
     "name": "stdout",
     "output_type": "stream",
     "text": [
      "t: 1.8179\n",
      "p-value: 0.035\n",
      "We reject H0: height of individuals at the sports club is greater than UK average\n",
      "\n",
      "\n",
      "p-value: 0.035\n",
      "We reject H0: height of individuals at the sports club is greater than UK average\n"
     ]
    }
   ],
   "source": [
    "from scipy.stats import t\n",
    "\n",
    "mu = 66.5\n",
    "xbar = 67.4\n",
    "std = 10\n",
    "n = 408\n",
    "\n",
    "H0 = 'height of individuals at the sports club is greater than UK average'\n",
    "alpha = 0.05\n",
    "\n",
    "tt = (xbar - mu)/(std/np.sqrt(n))\n",
    "print('t: %.4f' % tt)\n",
    "\n",
    "# t-test\n",
    "p = t.sf(np.abs(tt),n-1)\n",
    "print('p-value: %.3f' % p)\n",
    "\n",
    "if p < alpha:\n",
    "    print('We reject H0: ' + H0)\n",
    "\n",
    "else:\n",
    "    print('We fail to reject H0: ' + H0)\n",
    "    \n",
    "# z-test\n",
    "p = norm.sf(np.abs(tt))\n",
    "print('\\n')\n",
    "print('p-value: %.3f' % p)\n",
    "\n",
    "if p < alpha:\n",
    "    print('We reject H0: ' + H0)\n",
    "\n",
    "else:\n",
    "    print('We fail to reject H0: ' + H0)"
   ]
  },
  {
   "cell_type": "markdown",
   "id": "4b97ae8b",
   "metadata": {},
   "source": [
    "**Exercise 3.8**"
   ]
  },
  {
   "cell_type": "code",
   "execution_count": 15,
   "id": "a96eb037",
   "metadata": {},
   "outputs": [
    {
     "data": {
      "text/html": [
       "<div>\n",
       "<style scoped>\n",
       "    .dataframe tbody tr th:only-of-type {\n",
       "        vertical-align: middle;\n",
       "    }\n",
       "\n",
       "    .dataframe tbody tr th {\n",
       "        vertical-align: top;\n",
       "    }\n",
       "\n",
       "    .dataframe thead th {\n",
       "        text-align: right;\n",
       "    }\n",
       "</style>\n",
       "<table border=\"1\" class=\"dataframe\">\n",
       "  <thead>\n",
       "    <tr style=\"text-align: right;\">\n",
       "      <th></th>\n",
       "      <th>0</th>\n",
       "    </tr>\n",
       "  </thead>\n",
       "  <tbody>\n",
       "    <tr>\n",
       "      <th>0</th>\n",
       "      <td>77</td>\n",
       "    </tr>\n",
       "    <tr>\n",
       "      <th>1</th>\n",
       "      <td>74</td>\n",
       "    </tr>\n",
       "    <tr>\n",
       "      <th>2</th>\n",
       "      <td>80</td>\n",
       "    </tr>\n",
       "    <tr>\n",
       "      <th>3</th>\n",
       "      <td>76</td>\n",
       "    </tr>\n",
       "    <tr>\n",
       "      <th>4</th>\n",
       "      <td>77</td>\n",
       "    </tr>\n",
       "    <tr>\n",
       "      <th>...</th>\n",
       "      <td>...</td>\n",
       "    </tr>\n",
       "    <tr>\n",
       "      <th>115</th>\n",
       "      <td>89</td>\n",
       "    </tr>\n",
       "    <tr>\n",
       "      <th>116</th>\n",
       "      <td>63</td>\n",
       "    </tr>\n",
       "    <tr>\n",
       "      <th>117</th>\n",
       "      <td>69</td>\n",
       "    </tr>\n",
       "    <tr>\n",
       "      <th>118</th>\n",
       "      <td>79</td>\n",
       "    </tr>\n",
       "    <tr>\n",
       "      <th>119</th>\n",
       "      <td>83</td>\n",
       "    </tr>\n",
       "  </tbody>\n",
       "</table>\n",
       "<p>120 rows × 1 columns</p>\n",
       "</div>"
      ],
      "text/plain": [
       "      0\n",
       "0    77\n",
       "1    74\n",
       "2    80\n",
       "3    76\n",
       "4    77\n",
       "..   ..\n",
       "115  89\n",
       "116  63\n",
       "117  69\n",
       "118  79\n",
       "119  83\n",
       "\n",
       "[120 rows x 1 columns]"
      ]
     },
     "execution_count": 15,
     "metadata": {},
     "output_type": "execute_result"
    }
   ],
   "source": [
    "import pandas as pd\n",
    "\n",
    "grades = pd.read_excel('./grades_data.xlsx',header=None)\n",
    "grades"
   ]
  },
  {
   "cell_type": "code",
   "execution_count": 16,
   "id": "a6e07186",
   "metadata": {},
   "outputs": [
    {
     "name": "stdout",
     "output_type": "stream",
     "text": [
      "t: 1.6467\n",
      "p-value: 0.051\n",
      "We fail to reject H0: mu = 74\n"
     ]
    }
   ],
   "source": [
    "mu = 74\n",
    "xbar = grades.mean()\n",
    "n = len(grades)\n",
    "std = n/(n-1)*grades.std()\n",
    "\n",
    "H0 = 'mu = %d' % mu\n",
    "alpha = 0.05\n",
    "\n",
    "tt = (xbar - mu)/(std/np.sqrt(n))\n",
    "print('t: %.4f' % tt)\n",
    "\n",
    "# t-test\n",
    "p = t.sf(np.abs(tt),n-1)\n",
    "print('p-value: %.3f' % p)\n",
    "\n",
    "if p < alpha:\n",
    "    print('We reject H0: ' + H0)\n",
    "\n",
    "else:\n",
    "    print('We fail to reject H0: ' + H0)"
   ]
  },
  {
   "cell_type": "code",
   "execution_count": 17,
   "id": "b78ee6e9",
   "metadata": {},
   "outputs": [
    {
     "name": "stdout",
     "output_type": "stream",
     "text": [
      "Ttest_1sampResult(statistic=array([1.66051704]), pvalue=array([0.09944323]))\n"
     ]
    },
    {
     "data": {
      "text/plain": [
       "array([ True])"
      ]
     },
     "execution_count": 17,
     "metadata": {},
     "output_type": "execute_result"
    }
   ],
   "source": [
    "from scipy.stats import ttest_1samp\n",
    "print(ttest_1samp(grades, mu))\n",
    "ttest_1samp(grades, mu).pvalue > alpha"
   ]
  },
  {
   "cell_type": "code",
   "execution_count": 18,
   "id": "61522820",
   "metadata": {
    "scrolled": false
   },
   "outputs": [
    {
     "name": "stdout",
     "output_type": "stream",
     "text": [
      "\n",
      "\n",
      "mu =  0\n",
      "We reject H0: mu = 0\n",
      "\n",
      "\n",
      "mu =  1\n",
      "We reject H0: mu = 1\n",
      "\n",
      "\n",
      "mu =  2\n",
      "We reject H0: mu = 2\n",
      "\n",
      "\n",
      "mu =  3\n",
      "We reject H0: mu = 3\n",
      "\n",
      "\n",
      "mu =  4\n",
      "We reject H0: mu = 4\n",
      "\n",
      "\n",
      "mu =  5\n",
      "We reject H0: mu = 5\n",
      "\n",
      "\n",
      "mu =  6\n",
      "We reject H0: mu = 6\n",
      "\n",
      "\n",
      "mu =  7\n",
      "We reject H0: mu = 7\n",
      "\n",
      "\n",
      "mu =  8\n",
      "We reject H0: mu = 8\n",
      "\n",
      "\n",
      "mu =  9\n",
      "We reject H0: mu = 9\n",
      "\n",
      "\n",
      "mu =  10\n",
      "We reject H0: mu = 10\n",
      "\n",
      "\n",
      "mu =  11\n",
      "We reject H0: mu = 11\n",
      "\n",
      "\n",
      "mu =  12\n",
      "We reject H0: mu = 12\n",
      "\n",
      "\n",
      "mu =  13\n",
      "We reject H0: mu = 13\n",
      "\n",
      "\n",
      "mu =  14\n",
      "We reject H0: mu = 14\n",
      "\n",
      "\n",
      "mu =  15\n",
      "We reject H0: mu = 15\n",
      "\n",
      "\n",
      "mu =  16\n",
      "We reject H0: mu = 16\n",
      "\n",
      "\n",
      "mu =  17\n",
      "We reject H0: mu = 17\n",
      "\n",
      "\n",
      "mu =  18\n",
      "We reject H0: mu = 18\n",
      "\n",
      "\n",
      "mu =  19\n",
      "We reject H0: mu = 19\n",
      "\n",
      "\n",
      "mu =  20\n",
      "We reject H0: mu = 20\n",
      "\n",
      "\n",
      "mu =  21\n",
      "We reject H0: mu = 21\n",
      "\n",
      "\n",
      "mu =  22\n",
      "We reject H0: mu = 22\n",
      "\n",
      "\n",
      "mu =  23\n",
      "We reject H0: mu = 23\n",
      "\n",
      "\n",
      "mu =  24\n",
      "We reject H0: mu = 24\n",
      "\n",
      "\n",
      "mu =  25\n",
      "We reject H0: mu = 25\n",
      "\n",
      "\n",
      "mu =  26\n",
      "We reject H0: mu = 26\n",
      "\n",
      "\n",
      "mu =  27\n",
      "We reject H0: mu = 27\n",
      "\n",
      "\n",
      "mu =  28\n",
      "We reject H0: mu = 28\n",
      "\n",
      "\n",
      "mu =  29\n",
      "We reject H0: mu = 29\n",
      "\n",
      "\n",
      "mu =  30\n",
      "We reject H0: mu = 30\n",
      "\n",
      "\n",
      "mu =  31\n",
      "We reject H0: mu = 31\n",
      "\n",
      "\n",
      "mu =  32\n",
      "We reject H0: mu = 32\n",
      "\n",
      "\n",
      "mu =  33\n",
      "We reject H0: mu = 33\n",
      "\n",
      "\n",
      "mu =  34\n",
      "We reject H0: mu = 34\n",
      "\n",
      "\n",
      "mu =  35\n",
      "We reject H0: mu = 35\n",
      "\n",
      "\n",
      "mu =  36\n",
      "We reject H0: mu = 36\n",
      "\n",
      "\n",
      "mu =  37\n",
      "We reject H0: mu = 37\n",
      "\n",
      "\n",
      "mu =  38\n",
      "We reject H0: mu = 38\n",
      "\n",
      "\n",
      "mu =  39\n",
      "We reject H0: mu = 39\n",
      "\n",
      "\n",
      "mu =  40\n",
      "We reject H0: mu = 40\n",
      "\n",
      "\n",
      "mu =  41\n",
      "We reject H0: mu = 41\n",
      "\n",
      "\n",
      "mu =  42\n",
      "We reject H0: mu = 42\n",
      "\n",
      "\n",
      "mu =  43\n",
      "We reject H0: mu = 43\n",
      "\n",
      "\n",
      "mu =  44\n",
      "We reject H0: mu = 44\n",
      "\n",
      "\n",
      "mu =  45\n",
      "We reject H0: mu = 45\n",
      "\n",
      "\n",
      "mu =  46\n",
      "We reject H0: mu = 46\n",
      "\n",
      "\n",
      "mu =  47\n",
      "We reject H0: mu = 47\n",
      "\n",
      "\n",
      "mu =  48\n",
      "We reject H0: mu = 48\n",
      "\n",
      "\n",
      "mu =  49\n",
      "We reject H0: mu = 49\n",
      "\n",
      "\n",
      "mu =  50\n",
      "We reject H0: mu = 50\n",
      "\n",
      "\n",
      "mu =  51\n",
      "We reject H0: mu = 51\n",
      "\n",
      "\n",
      "mu =  52\n",
      "We reject H0: mu = 52\n",
      "\n",
      "\n",
      "mu =  53\n",
      "We reject H0: mu = 53\n",
      "\n",
      "\n",
      "mu =  54\n",
      "We reject H0: mu = 54\n",
      "\n",
      "\n",
      "mu =  55\n",
      "We reject H0: mu = 55\n",
      "\n",
      "\n",
      "mu =  56\n",
      "We reject H0: mu = 56\n",
      "\n",
      "\n",
      "mu =  57\n",
      "We reject H0: mu = 57\n",
      "\n",
      "\n",
      "mu =  58\n",
      "We reject H0: mu = 58\n",
      "\n",
      "\n",
      "mu =  59\n",
      "We reject H0: mu = 59\n",
      "\n",
      "\n",
      "mu =  60\n",
      "We reject H0: mu = 60\n",
      "\n",
      "\n",
      "mu =  61\n",
      "We reject H0: mu = 61\n",
      "\n",
      "\n",
      "mu =  62\n",
      "We reject H0: mu = 62\n",
      "\n",
      "\n",
      "mu =  63\n",
      "We reject H0: mu = 63\n",
      "\n",
      "\n",
      "mu =  64\n",
      "We reject H0: mu = 64\n",
      "\n",
      "\n",
      "mu =  65\n",
      "We reject H0: mu = 65\n",
      "\n",
      "\n",
      "mu =  66\n",
      "We reject H0: mu = 66\n",
      "\n",
      "\n",
      "mu =  67\n",
      "We reject H0: mu = 67\n",
      "\n",
      "\n",
      "mu =  68\n",
      "We reject H0: mu = 68\n",
      "\n",
      "\n",
      "mu =  69\n",
      "We reject H0: mu = 69\n",
      "\n",
      "\n",
      "mu =  70\n",
      "We reject H0: mu = 70\n",
      "\n",
      "\n",
      "mu =  71\n",
      "We reject H0: mu = 71\n",
      "\n",
      "\n",
      "mu =  72\n",
      "We reject H0: mu = 72\n",
      "\n",
      "\n",
      "mu =  73\n",
      "We reject H0: mu = 73\n",
      "\n",
      "\n",
      "mu =  74\n",
      "We fail to reject H0: mu = 74\n",
      "\n",
      "\n",
      "mu =  75\n",
      "We fail to reject H0: mu = 75\n",
      "\n",
      "\n",
      "mu =  76\n",
      "We fail to reject H0: mu = 76\n",
      "\n",
      "\n",
      "mu =  77\n",
      "We reject H0: mu = 77\n",
      "\n",
      "\n",
      "mu =  78\n",
      "We reject H0: mu = 78\n",
      "\n",
      "\n",
      "mu =  79\n",
      "We reject H0: mu = 79\n",
      "\n",
      "\n",
      "mu =  80\n",
      "We reject H0: mu = 80\n",
      "\n",
      "\n",
      "mu =  81\n",
      "We reject H0: mu = 81\n",
      "\n",
      "\n",
      "mu =  82\n",
      "We reject H0: mu = 82\n",
      "\n",
      "\n",
      "mu =  83\n",
      "We reject H0: mu = 83\n",
      "\n",
      "\n",
      "mu =  84\n",
      "We reject H0: mu = 84\n",
      "\n",
      "\n",
      "mu =  85\n",
      "We reject H0: mu = 85\n",
      "\n",
      "\n",
      "mu =  86\n",
      "We reject H0: mu = 86\n",
      "\n",
      "\n",
      "mu =  87\n",
      "We reject H0: mu = 87\n",
      "\n",
      "\n",
      "mu =  88\n",
      "We reject H0: mu = 88\n",
      "\n",
      "\n",
      "mu =  89\n",
      "We reject H0: mu = 89\n",
      "\n",
      "\n",
      "mu =  90\n",
      "We reject H0: mu = 90\n",
      "\n",
      "\n",
      "mu =  91\n",
      "We reject H0: mu = 91\n",
      "\n",
      "\n",
      "mu =  92\n",
      "We reject H0: mu = 92\n",
      "\n",
      "\n",
      "mu =  93\n",
      "We reject H0: mu = 93\n",
      "\n",
      "\n",
      "mu =  94\n",
      "We reject H0: mu = 94\n",
      "\n",
      "\n",
      "mu =  95\n",
      "We reject H0: mu = 95\n",
      "\n",
      "\n",
      "mu =  96\n",
      "We reject H0: mu = 96\n",
      "\n",
      "\n",
      "mu =  97\n",
      "We reject H0: mu = 97\n",
      "\n",
      "\n",
      "mu =  98\n",
      "We reject H0: mu = 98\n",
      "\n",
      "\n",
      "mu =  99\n",
      "We reject H0: mu = 99\n",
      "\n",
      "\n",
      "mu =  100\n",
      "We reject H0: mu = 100\n"
     ]
    }
   ],
   "source": [
    "mus = np.arange(0,101)\n",
    "\n",
    "for mu in mus:\n",
    "    print('\\n')\n",
    "    print('mu = ', mu)\n",
    "    H0 = 'mu = %d' % mu\n",
    "    \n",
    "    if (ttest_1samp(grades, mu).pvalue < alpha) == True:\n",
    "        print('We reject H0: ' + H0)\n",
    "        \n",
    "    else:\n",
    "        print('We fail to reject H0: ' + H0)"
   ]
  },
  {
   "cell_type": "markdown",
   "id": "bcb8541a",
   "metadata": {},
   "source": [
    "**Exercise 3.9**"
   ]
  },
  {
   "cell_type": "code",
   "execution_count": 19,
   "id": "a250da66",
   "metadata": {},
   "outputs": [
    {
     "data": {
      "text/plain": [
       "10.632463511720477"
      ]
     },
     "execution_count": 19,
     "metadata": {},
     "output_type": "execute_result"
    }
   ],
   "source": [
    "ak = np.array([20,20,20,20,20,20])\n",
    "bk = np.array([17,14,19,15,21,34])\n",
    "n = 120\n",
    "\n",
    "chi = np.sum([(ak[i] - bk[i])**2/bk[i] for i in range(len(ak))])\n",
    "chi"
   ]
  },
  {
   "cell_type": "code",
   "execution_count": 20,
   "id": "979e57c3",
   "metadata": {},
   "outputs": [
    {
     "name": "stdout",
     "output_type": "stream",
     "text": [
      "p-value: 1.000\n",
      "\n",
      "\n",
      "alpha:  0.05\n",
      "We fail to reject H0: ak distributed as expected\n",
      "\n",
      "\n",
      "alpha:  0.01\n",
      "We fail to reject H0: ak distributed as expected\n"
     ]
    }
   ],
   "source": [
    "from scipy.stats import chi2\n",
    "\n",
    "p = chi2.sf(chi, n-1)\n",
    "print('p-value: %.3f' % p)\n",
    "\n",
    "H0 = 'ak distributed as expected'\n",
    "sig = np.array([0.05,0.01])\n",
    "\n",
    "for alpha in sig:\n",
    "    print('\\n')\n",
    "    print('alpha: ', alpha)\n",
    "    if p < alpha:\n",
    "        print('We reject H0: ' + H0)\n",
    "\n",
    "    else:\n",
    "        print('We fail to reject H0: ' + H0)"
   ]
  },
  {
   "cell_type": "markdown",
   "id": "80eec0e3",
   "metadata": {},
   "source": [
    "**Exercise 3.12**"
   ]
  },
  {
   "cell_type": "code",
   "execution_count": 21,
   "id": "1f341845",
   "metadata": {},
   "outputs": [
    {
     "name": "stdout",
     "output_type": "stream",
     "text": [
      "t: 1.2894\n",
      "p-value: 0.208\n",
      "We fail to reject H0: average weight gain per person was more than 5 pounds\n"
     ]
    }
   ],
   "source": [
    "mu = 5\n",
    "xbar = 6.7\n",
    "std = 7.1\n",
    "n = 29\n",
    "\n",
    "H0 = 'average weight gain per person was more than 5 pounds'\n",
    "alpha = 0.05\n",
    "\n",
    "tt = (xbar - mu)/(std/np.sqrt(n))\n",
    "print('t: %.4f' % tt)\n",
    "\n",
    "# t-test\n",
    "p = t.sf(np.abs(tt),n-1)*2\n",
    "print('p-value: %.3f' % p)\n",
    "\n",
    "if p < alpha:\n",
    "    print('We reject H0: ' + H0)\n",
    "\n",
    "else:\n",
    "    print('We fail to reject H0: ' + H0)"
   ]
  },
  {
   "cell_type": "markdown",
   "id": "cd40257a",
   "metadata": {},
   "source": [
    "**Exercise 3.10**"
   ]
  },
  {
   "cell_type": "code",
   "execution_count": 22,
   "id": "243b1b30",
   "metadata": {},
   "outputs": [
    {
     "name": "stdout",
     "output_type": "stream",
     "text": [
      "False\n"
     ]
    },
    {
     "data": {
      "text/html": [
       "<div>\n",
       "<style scoped>\n",
       "    .dataframe tbody tr th:only-of-type {\n",
       "        vertical-align: middle;\n",
       "    }\n",
       "\n",
       "    .dataframe tbody tr th {\n",
       "        vertical-align: top;\n",
       "    }\n",
       "\n",
       "    .dataframe thead th {\n",
       "        text-align: right;\n",
       "    }\n",
       "</style>\n",
       "<table border=\"1\" class=\"dataframe\">\n",
       "  <thead>\n",
       "    <tr style=\"text-align: right;\">\n",
       "      <th></th>\n",
       "      <th>Last Sale</th>\n",
       "    </tr>\n",
       "  </thead>\n",
       "  <tbody>\n",
       "    <tr>\n",
       "      <th>0</th>\n",
       "      <td>3.05</td>\n",
       "    </tr>\n",
       "    <tr>\n",
       "      <th>1</th>\n",
       "      <td>22.22</td>\n",
       "    </tr>\n",
       "    <tr>\n",
       "      <th>2</th>\n",
       "      <td>4.26</td>\n",
       "    </tr>\n",
       "    <tr>\n",
       "      <th>3</th>\n",
       "      <td>8.82</td>\n",
       "    </tr>\n",
       "    <tr>\n",
       "      <th>4</th>\n",
       "      <td>61.08</td>\n",
       "    </tr>\n",
       "    <tr>\n",
       "      <th>...</th>\n",
       "      <td>...</td>\n",
       "    </tr>\n",
       "    <tr>\n",
       "      <th>4247</th>\n",
       "      <td>9.71</td>\n",
       "    </tr>\n",
       "    <tr>\n",
       "      <th>4248</th>\n",
       "      <td>10.0</td>\n",
       "    </tr>\n",
       "    <tr>\n",
       "      <th>4250</th>\n",
       "      <td>41.15</td>\n",
       "    </tr>\n",
       "    <tr>\n",
       "      <th>4251</th>\n",
       "      <td>5.98</td>\n",
       "    </tr>\n",
       "    <tr>\n",
       "      <th>4252</th>\n",
       "      <td>15.96</td>\n",
       "    </tr>\n",
       "  </tbody>\n",
       "</table>\n",
       "<p>4018 rows × 1 columns</p>\n",
       "</div>"
      ],
      "text/plain": [
       "     Last Sale\n",
       "0         3.05\n",
       "1        22.22\n",
       "2         4.26\n",
       "3         8.82\n",
       "4        61.08\n",
       "...        ...\n",
       "4247      9.71\n",
       "4248      10.0\n",
       "4250     41.15\n",
       "4251      5.98\n",
       "4252     15.96\n",
       "\n",
       "[4018 rows x 1 columns]"
      ]
     },
     "execution_count": 22,
     "metadata": {},
     "output_type": "execute_result"
    }
   ],
   "source": [
    "ds = pd.read_excel('./nasdaq_share_price_data.xlsx',usecols=[2])\n",
    "\n",
    "# check for NaN entries\n",
    "print(ds.isnull().values.any())\n",
    "\n",
    "# remove entries which lead with zero and convert to strings\n",
    "ds = ds[(ds['Last Sale'] >= 1)].astype(str)\n",
    "ds"
   ]
  },
  {
   "cell_type": "code",
   "execution_count": 23,
   "id": "5928bbf9",
   "metadata": {},
   "outputs": [
    {
     "data": {
      "text/html": [
       "<div>\n",
       "<style scoped>\n",
       "    .dataframe tbody tr th:only-of-type {\n",
       "        vertical-align: middle;\n",
       "    }\n",
       "\n",
       "    .dataframe tbody tr th {\n",
       "        vertical-align: top;\n",
       "    }\n",
       "\n",
       "    .dataframe thead th {\n",
       "        text-align: right;\n",
       "    }\n",
       "</style>\n",
       "<table border=\"1\" class=\"dataframe\">\n",
       "  <thead>\n",
       "    <tr style=\"text-align: right;\">\n",
       "      <th></th>\n",
       "      <th>Last Sale</th>\n",
       "    </tr>\n",
       "  </thead>\n",
       "  <tbody>\n",
       "    <tr>\n",
       "      <th>0</th>\n",
       "      <td>3.05</td>\n",
       "    </tr>\n",
       "    <tr>\n",
       "      <th>1</th>\n",
       "      <td>22.22</td>\n",
       "    </tr>\n",
       "    <tr>\n",
       "      <th>2</th>\n",
       "      <td>4.26</td>\n",
       "    </tr>\n",
       "    <tr>\n",
       "      <th>3</th>\n",
       "      <td>8.82</td>\n",
       "    </tr>\n",
       "    <tr>\n",
       "      <th>4</th>\n",
       "      <td>61.08</td>\n",
       "    </tr>\n",
       "    <tr>\n",
       "      <th>5</th>\n",
       "      <td>133.11</td>\n",
       "    </tr>\n",
       "    <tr>\n",
       "      <th>6</th>\n",
       "      <td>68.18</td>\n",
       "    </tr>\n",
       "    <tr>\n",
       "      <th>7</th>\n",
       "      <td>53.02</td>\n",
       "    </tr>\n",
       "    <tr>\n",
       "      <th>8</th>\n",
       "      <td>20.74</td>\n",
       "    </tr>\n",
       "    <tr>\n",
       "      <th>9</th>\n",
       "      <td>19.2</td>\n",
       "    </tr>\n",
       "    <tr>\n",
       "      <th>10</th>\n",
       "      <td>1.69</td>\n",
       "    </tr>\n",
       "    <tr>\n",
       "      <th>11</th>\n",
       "      <td>9.81</td>\n",
       "    </tr>\n",
       "    <tr>\n",
       "      <th>12</th>\n",
       "      <td>3.62</td>\n",
       "    </tr>\n",
       "    <tr>\n",
       "      <th>13</th>\n",
       "      <td>311.54</td>\n",
       "    </tr>\n",
       "    <tr>\n",
       "      <th>14</th>\n",
       "      <td>149.67</td>\n",
       "    </tr>\n",
       "    <tr>\n",
       "      <th>15</th>\n",
       "      <td>14.36</td>\n",
       "    </tr>\n",
       "    <tr>\n",
       "      <th>16</th>\n",
       "      <td>39.93</td>\n",
       "    </tr>\n",
       "    <tr>\n",
       "      <th>17</th>\n",
       "      <td>3.37</td>\n",
       "    </tr>\n",
       "    <tr>\n",
       "      <th>18</th>\n",
       "      <td>26.17</td>\n",
       "    </tr>\n",
       "    <tr>\n",
       "      <th>19</th>\n",
       "      <td>9.72</td>\n",
       "    </tr>\n",
       "    <tr>\n",
       "      <th>20</th>\n",
       "      <td>9.94</td>\n",
       "    </tr>\n",
       "    <tr>\n",
       "      <th>22</th>\n",
       "      <td>9.11</td>\n",
       "    </tr>\n",
       "  </tbody>\n",
       "</table>\n",
       "</div>"
      ],
      "text/plain": [
       "   Last Sale\n",
       "0       3.05\n",
       "1      22.22\n",
       "2       4.26\n",
       "3       8.82\n",
       "4      61.08\n",
       "5     133.11\n",
       "6      68.18\n",
       "7      53.02\n",
       "8      20.74\n",
       "9       19.2\n",
       "10      1.69\n",
       "11      9.81\n",
       "12      3.62\n",
       "13    311.54\n",
       "14    149.67\n",
       "15     14.36\n",
       "16     39.93\n",
       "17      3.37\n",
       "18     26.17\n",
       "19      9.72\n",
       "20      9.94\n",
       "22      9.11"
      ]
     },
     "execution_count": 23,
     "metadata": {},
     "output_type": "execute_result"
    }
   ],
   "source": [
    "ds.head(22)"
   ]
  },
  {
   "cell_type": "code",
   "execution_count": 24,
   "id": "14251515",
   "metadata": {},
   "outputs": [
    {
     "name": "stdout",
     "output_type": "stream",
     "text": [
      "[   0    1    2 ... 4250 4251 4252]\n"
     ]
    }
   ],
   "source": [
    "idx = ds.index.values\n",
    "print(idx)"
   ]
  },
  {
   "cell_type": "code",
   "execution_count": 25,
   "id": "028c4017",
   "metadata": {
    "scrolled": false
   },
   "outputs": [
    {
     "data": {
      "text/plain": [
       "4018"
      ]
     },
     "execution_count": 25,
     "metadata": {},
     "output_type": "execute_result"
    }
   ],
   "source": [
    "firstdigs = []\n",
    "for i in idx:\n",
    "    firstdigs += [ds['Last Sale'][i][0]]\n",
    "\n",
    "firstdigs = np.array(firstdigs,dtype=int)\n",
    "len(firstdigs)"
   ]
  },
  {
   "cell_type": "code",
   "execution_count": 26,
   "id": "5aec598b",
   "metadata": {},
   "outputs": [
    {
     "data": {
      "text/plain": [
       "<AxesSubplot:ylabel='Count'>"
      ]
     },
     "execution_count": 26,
     "metadata": {},
     "output_type": "execute_result"
    },
    {
     "data": {
      "image/png": "[encoded data removed]",
      "text/plain": [
       "<Figure size 576x432 with 1 Axes>"
      ]
     },
     "metadata": {
      "needs_background": "light"
     },
     "output_type": "display_data"
    }
   ],
   "source": [
    "bins = np.array([1,2,3,4,5,6,7,8,9])\n",
    "fig = plt.figure(figsize=(8,6))\n",
    "sns.histplot(firstdigs, bins=bins, discrete=True)"
   ]
  },
  {
   "cell_type": "code",
   "execution_count": 27,
   "id": "64df9191",
   "metadata": {},
   "outputs": [
    {
     "data": {
      "text/plain": [
       "<AxesSubplot:ylabel='Count'>"
      ]
     },
     "execution_count": 27,
     "metadata": {},
     "output_type": "execute_result"
    },
    {
     "data": {
      "image/png": "[encoded data removed]",
      "text/plain": [
       "<Figure size 576x432 with 1 Axes>"
      ]
     },
     "metadata": {
      "needs_background": "light"
     },
     "output_type": "display_data"
    }
   ],
   "source": [
    "# generating sample\n",
    "n = 45\n",
    "np.random.shuffle(firstdigs)\n",
    "sample = firstdigs[:n]\n",
    "\n",
    "fig = plt.figure(figsize=(8,6))\n",
    "sns.histplot(sample, bins=bins, discrete=True)"
   ]
  },
  {
   "cell_type": "code",
   "execution_count": 28,
   "id": "570afb71",
   "metadata": {},
   "outputs": [],
   "source": [
    "unif_exp = (n/9)*np.ones(9)\n",
    "bedf_exp = n*np.array([np.log10(1+1/i) for i in bins])\n",
    "\n",
    "sample_freq = np.zeros(9)\n",
    "for j in range(1,10):\n",
    "    sample_freq[j-1] = np.count_nonzero(sample == j)"
   ]
  },
  {
   "cell_type": "code",
   "execution_count": 29,
   "id": "ea410c0a",
   "metadata": {},
   "outputs": [
    {
     "name": "stdout",
     "output_type": "stream",
     "text": [
      "chi^2: 34.800\n",
      "p-value: 0.838\n",
      "\n",
      "\n",
      "alpha:  0.05\n",
      "We fail to reject H0: ak distributed as expected\n",
      "\n",
      "\n",
      "alpha:  0.01\n",
      "We fail to reject H0: ak distributed as expected\n"
     ]
    }
   ],
   "source": [
    "# uniform test\n",
    "ak = sample_freq\n",
    "bk = unif_exp\n",
    "\n",
    "chi = np.sum([(ak[i] - bk[i])**2/bk[i] for i in range(len(ak))])\n",
    "print('chi^2: %.3f' % chi)\n",
    "\n",
    "p = chi2.sf(chi, n-1)\n",
    "print('p-value: %.3f' % p)\n",
    "\n",
    "H0 = 'ak distributed as expected'\n",
    "sig = np.array([0.05,0.01])\n",
    "\n",
    "for alpha in sig:\n",
    "    print('\\n')\n",
    "    print('alpha: ', alpha)\n",
    "    if p < alpha:\n",
    "        print('We reject H0: ' + H0)\n",
    "\n",
    "    else:\n",
    "        print('We fail to reject H0: ' + H0)"
   ]
  },
  {
   "cell_type": "code",
   "execution_count": 30,
   "id": "b4736be9",
   "metadata": {},
   "outputs": [
    {
     "name": "stdout",
     "output_type": "stream",
     "text": [
      "chi^2: 9.633\n",
      "p-value: 1.000\n",
      "\n",
      "\n",
      "alpha:  0.05\n",
      "We fail to reject H0: ak distributed as expected\n",
      "\n",
      "\n",
      "alpha:  0.01\n",
      "We fail to reject H0: ak distributed as expected\n"
     ]
    }
   ],
   "source": [
    "# bedford test\n",
    "ak = sample_freq\n",
    "bk = bedf_exp\n",
    "\n",
    "chi = np.sum([(ak[i] - bk[i])**2/bk[i] for i in range(len(ak))])\n",
    "print('chi^2: %.3f' % chi)\n",
    "\n",
    "p = chi2.sf(chi, n-1)\n",
    "print('p-value: %.3f' % p)\n",
    "\n",
    "H0 = 'ak distributed as expected'\n",
    "sig = np.array([0.05,0.01])\n",
    "\n",
    "for alpha in sig:\n",
    "    print('\\n')\n",
    "    print('alpha: ', alpha)\n",
    "    if p < alpha:\n",
    "        print('We reject H0: ' + H0)\n",
    "\n",
    "    else:\n",
    "        print('We fail to reject H0: ' + H0)"
   ]
  },
  {
   "cell_type": "code",
   "execution_count": 31,
   "id": "a28ba8e8",
   "metadata": {},
   "outputs": [
    {
     "name": "stdout",
     "output_type": "stream",
     "text": [
      "chi^2: 34.800\n",
      "p-value: 0.838\n",
      "\n",
      "\n",
      "alpha:  0.05\n",
      "We fail to reject H0: ak distributed as expected\n",
      "\n",
      "\n",
      "alpha:  0.01\n",
      "We fail to reject H0: ak distributed as expected\n",
      "\n",
      "\n",
      "chi^2: 9.267\n",
      "p-value: 1.000\n",
      "\n",
      "\n",
      "alpha:  0.05\n",
      "We fail to reject H0: ak distributed as expected\n",
      "\n",
      "\n",
      "alpha:  0.01\n",
      "We fail to reject H0: ak distributed as expected\n"
     ]
    },
    {
     "data": {
      "image/png": "[encoded data removed]",
      "text/plain": [
       "<Figure size 576x432 with 1 Axes>"
      ]
     },
     "metadata": {
      "needs_background": "light"
     },
     "output_type": "display_data"
    }
   ],
   "source": [
    "# repeat for n = 450\n",
    "\n",
    "# generating sample\n",
    "n = 45\n",
    "np.random.shuffle(firstdigs)\n",
    "sample = firstdigs[:n]\n",
    "\n",
    "fig = plt.figure(figsize=(8,6))\n",
    "sns.histplot(sample, bins=bins, discrete=True)\n",
    "\n",
    "unif_exp = (n/9)*np.ones(9)\n",
    "bedf_exp = n*np.array([np.log10(1+1/i) for i in bins])\n",
    "\n",
    "sample_freq = np.zeros(9)\n",
    "for j in range(1,10):\n",
    "    sample_freq[j-1] = np.count_nonzero(sample == j)\n",
    "    \n",
    "# uniform test\n",
    "ak = sample_freq\n",
    "bk = unif_exp\n",
    "\n",
    "chi = np.sum([(ak[i] - bk[i])**2/bk[i] for i in range(len(ak))])\n",
    "print('chi^2: %.3f' % chi)\n",
    "\n",
    "p = chi2.sf(chi, n-1)\n",
    "print('p-value: %.3f' % p)\n",
    "\n",
    "H0 = 'ak distributed as expected'\n",
    "sig = np.array([0.05,0.01])\n",
    "\n",
    "for alpha in sig:\n",
    "    print('\\n')\n",
    "    print('alpha: ', alpha)\n",
    "    if p < alpha:\n",
    "        print('We reject H0: ' + H0)\n",
    "\n",
    "    else:\n",
    "        print('We fail to reject H0: ' + H0)\n",
    "        \n",
    "# bedford test\n",
    "ak = sample_freq\n",
    "bk = bedf_exp\n",
    "\n",
    "chi = np.sum([(ak[i] - bk[i])**2/bk[i] for i in range(len(ak))])\n",
    "print('\\n')\n",
    "print('chi^2: %.3f' % chi)\n",
    "\n",
    "p = chi2.sf(chi, n-1)\n",
    "print('p-value: %.3f' % p)\n",
    "\n",
    "H0 = 'ak distributed as expected'\n",
    "sig = np.array([0.05,0.01])\n",
    "\n",
    "for alpha in sig:\n",
    "    print('\\n')\n",
    "    print('alpha: ', alpha)\n",
    "    if p < alpha:\n",
    "        print('We reject H0: ' + H0)\n",
    "\n",
    "    else:\n",
    "        print('We fail to reject H0: ' + H0)"
   ]
  },
  {
   "cell_type": "code",
   "execution_count": null,
   "id": "8db0807e",
   "metadata": {},
   "outputs": [],
   "source": []
  },
  {
   "cell_type": "code",
   "execution_count": null,
   "id": "1227c331",
   "metadata": {},
   "outputs": [],
   "source": []
  }
 ],
 "metadata": {
  "kernelspec": {
   "display_name": "Python 3 (ipykernel)",
   "language": "python",
   "name": "python3"
  },
  "language_info": {
   "codemirror_mode": {
    "name": "ipython",
    "version": 3
   },
   "file_extension": ".py",
   "mimetype": "text/x-python",
   "name": "python",
   "nbconvert_exporter": "python",
   "pygments_lexer": "ipython3",
   "version": "3.9.12"
  }
 },
 "nbformat": 4,
 "nbformat_minor": 5
}
