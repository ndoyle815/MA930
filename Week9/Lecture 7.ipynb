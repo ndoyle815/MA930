{
 "cells": [
  {
   "cell_type": "code",
   "execution_count": 15,
   "id": "bbea33f5",
   "metadata": {},
   "outputs": [],
   "source": [
    "# import libraries\n",
    "import numpy as np\n",
    "from numpy import linalg as la\n",
    "import matplotlib.pyplot as plt\n",
    "import seaborn as sns\n",
    "import pandas as pd\n",
    "import math as m\n",
    "\n",
    "# built-in statistics functions\n",
    "from statistics import variance\n",
    "from scipy.stats import mode\n",
    "\n",
    "#plotting\n",
    "plt.rcParams.update({'font.size': 16})"
   ]
  },
  {
   "cell_type": "markdown",
   "id": "dc33e255",
   "metadata": {},
   "source": [
    "**Exercise 7.1**"
   ]
  },
  {
   "cell_type": "code",
   "execution_count": 16,
   "id": "16004a66",
   "metadata": {},
   "outputs": [
    {
     "data": {
      "text/html": [
       "<div>\n",
       "<style scoped>\n",
       "    .dataframe tbody tr th:only-of-type {\n",
       "        vertical-align: middle;\n",
       "    }\n",
       "\n",
       "    .dataframe tbody tr th {\n",
       "        vertical-align: top;\n",
       "    }\n",
       "\n",
       "    .dataframe thead th {\n",
       "        text-align: right;\n",
       "    }\n",
       "</style>\n",
       "<table border=\"1\" class=\"dataframe\">\n",
       "  <thead>\n",
       "    <tr style=\"text-align: right;\">\n",
       "      <th></th>\n",
       "      <th>Petal Width (cm)</th>\n",
       "      <th>Petal Length (cm)</th>\n",
       "      <th>Sepal Width (cm)</th>\n",
       "      <th>Sepal Length (cm)</th>\n",
       "      <th>Class</th>\n",
       "    </tr>\n",
       "  </thead>\n",
       "  <tbody>\n",
       "    <tr>\n",
       "      <th>0</th>\n",
       "      <td>2</td>\n",
       "      <td>14</td>\n",
       "      <td>33</td>\n",
       "      <td>50</td>\n",
       "      <td>0</td>\n",
       "    </tr>\n",
       "    <tr>\n",
       "      <th>1</th>\n",
       "      <td>24</td>\n",
       "      <td>56</td>\n",
       "      <td>31</td>\n",
       "      <td>67</td>\n",
       "      <td>1</td>\n",
       "    </tr>\n",
       "    <tr>\n",
       "      <th>2</th>\n",
       "      <td>23</td>\n",
       "      <td>51</td>\n",
       "      <td>31</td>\n",
       "      <td>69</td>\n",
       "      <td>1</td>\n",
       "    </tr>\n",
       "    <tr>\n",
       "      <th>3</th>\n",
       "      <td>2</td>\n",
       "      <td>10</td>\n",
       "      <td>36</td>\n",
       "      <td>46</td>\n",
       "      <td>0</td>\n",
       "    </tr>\n",
       "    <tr>\n",
       "      <th>4</th>\n",
       "      <td>20</td>\n",
       "      <td>52</td>\n",
       "      <td>30</td>\n",
       "      <td>65</td>\n",
       "      <td>1</td>\n",
       "    </tr>\n",
       "    <tr>\n",
       "      <th>...</th>\n",
       "      <td>...</td>\n",
       "      <td>...</td>\n",
       "      <td>...</td>\n",
       "      <td>...</td>\n",
       "      <td>...</td>\n",
       "    </tr>\n",
       "    <tr>\n",
       "      <th>145</th>\n",
       "      <td>20</td>\n",
       "      <td>50</td>\n",
       "      <td>25</td>\n",
       "      <td>57</td>\n",
       "      <td>1</td>\n",
       "    </tr>\n",
       "    <tr>\n",
       "      <th>146</th>\n",
       "      <td>13</td>\n",
       "      <td>40</td>\n",
       "      <td>23</td>\n",
       "      <td>55</td>\n",
       "      <td>2</td>\n",
       "    </tr>\n",
       "    <tr>\n",
       "      <th>147</th>\n",
       "      <td>2</td>\n",
       "      <td>17</td>\n",
       "      <td>34</td>\n",
       "      <td>54</td>\n",
       "      <td>0</td>\n",
       "    </tr>\n",
       "    <tr>\n",
       "      <th>148</th>\n",
       "      <td>24</td>\n",
       "      <td>51</td>\n",
       "      <td>28</td>\n",
       "      <td>58</td>\n",
       "      <td>1</td>\n",
       "    </tr>\n",
       "    <tr>\n",
       "      <th>149</th>\n",
       "      <td>2</td>\n",
       "      <td>15</td>\n",
       "      <td>37</td>\n",
       "      <td>53</td>\n",
       "      <td>0</td>\n",
       "    </tr>\n",
       "  </tbody>\n",
       "</table>\n",
       "<p>150 rows × 5 columns</p>\n",
       "</div>"
      ],
      "text/plain": [
       "     Petal Width (cm)  Petal Length (cm)  Sepal Width (cm)  Sepal Length (cm)  \\\n",
       "0                   2                 14                33                 50   \n",
       "1                  24                 56                31                 67   \n",
       "2                  23                 51                31                 69   \n",
       "3                   2                 10                36                 46   \n",
       "4                  20                 52                30                 65   \n",
       "..                ...                ...               ...                ...   \n",
       "145                20                 50                25                 57   \n",
       "146                13                 40                23                 55   \n",
       "147                 2                 17                34                 54   \n",
       "148                24                 51                28                 58   \n",
       "149                 2                 15                37                 53   \n",
       "\n",
       "     Class  \n",
       "0        0  \n",
       "1        1  \n",
       "2        1  \n",
       "3        0  \n",
       "4        1  \n",
       "..     ...  \n",
       "145      1  \n",
       "146      2  \n",
       "147      0  \n",
       "148      1  \n",
       "149      0  \n",
       "\n",
       "[150 rows x 5 columns]"
      ]
     },
     "execution_count": 16,
     "metadata": {},
     "output_type": "execute_result"
    }
   ],
   "source": [
    "# load data\n",
    "iris = pd.read_excel('./iris.xlsx')\n",
    "iris"
   ]
  },
  {
   "cell_type": "code",
   "execution_count": 17,
   "id": "81cf9fd6",
   "metadata": {},
   "outputs": [],
   "source": [
    "# randomly shuffling the dataset rows and separating into 80% training, 20% test\n",
    "# and convert to numpy matrices for better computation\n",
    "N = len(iris)\n",
    "iris = iris.sample(frac=1).reset_index(drop=True)\n",
    "training = iris[:int(N*0.8)].to_numpy()\n",
    "validation = iris[int(N*0.8):].to_numpy()"
   ]
  },
  {
   "cell_type": "code",
   "execution_count": 22,
   "id": "7f5c4fbe",
   "metadata": {},
   "outputs": [],
   "source": [
    "def KNN(test, training, K):\n",
    "    # function which tests test data against training data using a K nearest neighbours algorithm\n",
    "    # assuming classes of test and training lie in their final column\n",
    "    correct_classes = test[:,-1]\n",
    "    \n",
    "    # data lengths\n",
    "    ntrain = len(training)\n",
    "    nvalid = len(test)\n",
    "\n",
    "    for i in range(nvalid):\n",
    "        # arbitrary distances and classes to preliminary assign to test data\n",
    "        dists = 1000*np.ones(K)\n",
    "        cs = -1*np.ones(K)\n",
    "        test[i,-1] = -1\n",
    "\n",
    "        for j in range(ntrain):\n",
    "            # compute distance to each training point\n",
    "            dtrial = la.norm(test[i,:-1] - training[j,:-1])\n",
    "            \n",
    "            if dtrial < dists.max():\n",
    "                # if we find a new nearest neighbour we add its distance and class to vote\n",
    "                dists[np.argmax(dists)] = dtrial\n",
    "                cs[np.argmax(dists)] = training[j,-1]\n",
    "        \n",
    "        # assign class of test data to mode class of K nearest neighbours\n",
    "        test[i,-1] = mode(cs)[0]\n",
    "    \n",
    "    # proportion of correct classifications\n",
    "    return 1 - np.count_nonzero(test[:,-1] - correct_classes)/nvalid"
   ]
  },
  {
   "cell_type": "code",
   "execution_count": 23,
   "id": "72b9350d",
   "metadata": {},
   "outputs": [
    {
     "data": {
      "text/plain": [
       "1.0"
      ]
     },
     "execution_count": 23,
     "metadata": {},
     "output_type": "execute_result"
    }
   ],
   "source": [
    "# test case\n",
    "KNN(validation, training, 1)"
   ]
  },
  {
   "cell_type": "code",
   "execution_count": 6,
   "id": "96181f5e",
   "metadata": {},
   "outputs": [
    {
     "data": {
      "image/png": "[encoded data removed]",
      "text/plain": [
       "<Figure size 864x576 with 1 Axes>"
      ]
     },
     "metadata": {
      "needs_background": "light"
     },
     "output_type": "display_data"
    }
   ],
   "source": [
    "# KNN for K = 1, ..., 10\n",
    "K = 10\n",
    "accuracies = np.zeros(K+1)\n",
    "for ks in range(1,K+1):\n",
    "    accuracies[ks] = KNN(validation, training, ks)\n",
    "\n",
    "# plotting\n",
    "fig = plt.figure(figsize=(12,8))\n",
    "\n",
    "plt.plot(range(1,K+1), accuracies[1:], '-ko', markersize=10, markerfacecolor=(0, 0.447, 0.741, 1))\n",
    "plt.xlabel('$K$')\n",
    "plt.ylabel('Accuracy')\n",
    "plt.title('K nearest neighbours')\n",
    "plt.grid()"
   ]
  },
  {
   "cell_type": "markdown",
   "id": "c7cffb06",
   "metadata": {},
   "source": [
    "rescaling the data columns to lie in [0,1] and repeating the above code"
   ]
  },
  {
   "cell_type": "code",
   "execution_count": 7,
   "id": "54761208",
   "metadata": {},
   "outputs": [],
   "source": [
    "# reload data\n",
    "iris = pd.read_excel('./iris.xlsx',dtype='float64')\n",
    "iris = iris.to_numpy()"
   ]
  },
  {
   "cell_type": "code",
   "execution_count": 8,
   "id": "10eb9638",
   "metadata": {},
   "outputs": [],
   "source": [
    "# rescaling data columns\n",
    "N = len(iris)\n",
    "for l in range(4):\n",
    "    iris[:,l] = iris[:,l]/iris[:,l].max()"
   ]
  },
  {
   "cell_type": "code",
   "execution_count": 9,
   "id": "e8fef9a3",
   "metadata": {},
   "outputs": [],
   "source": [
    "# randomly shuffling the dataset rows and separating into 80% training, 20% test\n",
    "# and convert to numpy matrices for better computation\n",
    "np.random.shuffle(iris)\n",
    "training = iris[:int(N*0.8)]\n",
    "validation = iris[int(N*0.8):]"
   ]
  },
  {
   "cell_type": "code",
   "execution_count": 11,
   "id": "c53eb58f",
   "metadata": {},
   "outputs": [
    {
     "data": {
      "image/png": "[encoded data removed]",
      "text/plain": [
       "<Figure size 864x576 with 1 Axes>"
      ]
     },
     "metadata": {
      "needs_background": "light"
     },
     "output_type": "display_data"
    }
   ],
   "source": [
    "# KNN for K = 1, ..., 10\n",
    "K = 10\n",
    "accuracies = np.zeros(K+1)\n",
    "for ks in range(1,K+1):\n",
    "    accuracies[ks] = KNN(validation, training, ks)\n",
    "\n",
    "# plotting\n",
    "fig = plt.figure(figsize=(12,8))\n",
    "\n",
    "plt.plot(range(1,K+1), accuracies[1:], '-ko', markersize=10, markerfacecolor=(0, 0.447, 0.741, 1))\n",
    "plt.xlabel('$K$')\n",
    "plt.ylabel('Accuracy')\n",
    "plt.title('K nearest neighbours')\n",
    "plt.grid()"
   ]
  },
  {
   "cell_type": "markdown",
   "id": "8ed48566",
   "metadata": {},
   "source": [
    "I guess my K nearest neighbours is too good or I'm going wrong somewhere..."
   ]
  },
  {
   "cell_type": "code",
   "execution_count": 12,
   "id": "3434f42c",
   "metadata": {},
   "outputs": [
    {
     "data": {
      "image/png": "[encoded data removed]",
      "text/plain": [
       "<Figure size 864x576 with 1 Axes>"
      ]
     },
     "metadata": {
      "needs_background": "light"
     },
     "output_type": "display_data"
    }
   ],
   "source": [
    "# redefining function to only use one attribute for distance measure\n",
    "def KNNselective(test, training, K, attribute):\n",
    "    correct_classes = test[:,-1]\n",
    "\n",
    "    ntrain = len(training)\n",
    "    nvalid = len(test)\n",
    "\n",
    "    for i in range(nvalid):\n",
    "        dists = 100000*np.ones(K)\n",
    "        cs = -1*np.ones(K)\n",
    "        test[i,-1] = -1\n",
    "        \n",
    "        for j in range(ntrain):\n",
    "            dtrial = np.sqrt((test[i,attribute] - training[j,attribute])**2)\n",
    "            \n",
    "            if dtrial < dists.max():\n",
    "                dists[np.argmax(dists)] = dtrial\n",
    "                cs[np.argmax(dists)] = training[j,-1]\n",
    "    \n",
    "        test[i,-1] = mode(cs)[0]\n",
    "\n",
    "    return 1 - np.count_nonzero(test[:,-1] - correct_classes)/nvalid\n",
    "\n",
    "# KNN for K = 1, ..., 10\n",
    "K = 10\n",
    "accuracies = np.zeros(K+1)\n",
    "for ks in range(1,K+1):\n",
    "    accuracies[ks] = KNNselective(validation, training, ks, 3)\n",
    "\n",
    "# plotting\n",
    "fig = plt.figure(figsize=(12,8))\n",
    "\n",
    "plt.plot(range(1,K+1), accuracies[1:], '-ko', markersize=10, markerfacecolor=(0, 0.447, 0.741, 1))\n",
    "plt.xlabel('$K$')\n",
    "plt.ylabel('Accuracy')\n",
    "plt.title('K nearest neighbours')\n",
    "plt.grid()"
   ]
  },
  {
   "cell_type": "markdown",
   "id": "007ded1a",
   "metadata": {},
   "source": [
    "**Exercise 7.2**"
   ]
  },
  {
   "cell_type": "code",
   "execution_count": null,
   "id": "09a211c5",
   "metadata": {},
   "outputs": [],
   "source": []
  }
 ],
 "metadata": {
  "kernelspec": {
   "display_name": "Python 3 (ipykernel)",
   "language": "python",
   "name": "python3"
  },
  "language_info": {
   "codemirror_mode": {
    "name": "ipython",
    "version": 3
   },
   "file_extension": ".py",
   "mimetype": "text/x-python",
   "name": "python",
   "nbconvert_exporter": "python",
   "pygments_lexer": "ipython3",
   "version": "3.9.12"
  }
 },
 "nbformat": 4,
 "nbformat_minor": 5
}
